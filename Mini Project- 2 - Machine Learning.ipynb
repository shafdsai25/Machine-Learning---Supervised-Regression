{
 "cells": [
  {
   "cell_type": "markdown",
   "metadata": {},
   "source": [
    "# Machine Learning-Supervised Regression - Mini Project II\n",
    "\n",
    "\n",
    "Shafeenafarheen Jageerhussain"
   ]
  },
  {
   "cell_type": "markdown",
   "metadata": {},
   "source": [
    "# Probability and Statistics "
   ]
  },
  {
   "cell_type": "markdown",
   "metadata": {},
   "source": [
    "##### Import the required Libararies "
   ]
  },
  {
   "cell_type": "markdown",
   "metadata": {},
   "source": [
    "Write the inference for all the questions"
   ]
  },
  {
   "cell_type": "code",
   "execution_count": 114,
   "metadata": {},
   "outputs": [],
   "source": [
    "#Importing libraries for performing various kinds of operations based on the methods / functions etc. inside them\n",
    "\n",
    "import numpy as np\n",
    "import pandas as pd\n",
    "from scipy import stats\n",
    "from matplotlib import pyplot as plt\n",
    "from statsmodels.stats.weightstats import ztest as ztest\n",
    "import warnings\n",
    "warnings.filterwarnings('ignore')"
   ]
  },
  {
   "cell_type": "markdown",
   "metadata": {},
   "source": [
    "<span style=\"font-family: Arial; font-weight:bold;font-size:1.2em;\">1) In a library 50 books are selected at random. On an average 1 out of 10 books is a statistics book. \n",
    "\n",
    "i) Probability of getting exactly 3 statistics book.\n",
    "\n",
    "ii) Probability of getting atleast 3 statistics book.\n",
    "\n",
    "iii) Probability of getting atmost 3 statistics book.\n",
    "\n",
    "iv) Probability of getting between 3 and 10 statistics book.\n",
    "\n",
    "v)  Plot the distribution graph.\n",
    "\n",
    "[Note: Think what kind of distribution equation we need to use to solve all the above questions]\n"
   ]
  },
  {
   "cell_type": "markdown",
   "metadata": {},
   "source": [
    "#### Common Inferences:\n",
    "\n",
    "To pick the right approach, it is key to ensure the <b>type of distribution (i.e., discreate or continuous) and whether it is time bound or not</b>.\n",
    "\n",
    "<b>Checkpoint 1:</b> As the problem statement is regarding the number of books, it doesn't yield a meaningful outcome when the result is expressed in fraction like  1.5, 2.75 books etc. and should be a whole number like 3, 5 books etc. (i.e., discrete in nature)\n",
    "\n",
    "<b>Checkpoint 2:</b> As the outcome is not expressed against any time period, it can be concluded that there is no perdiocity involvment too.\n",
    "\n",
    "In addition, there can only 2 result for this problem - i.e, Either a success or failure to retrieve a statistics book.\n",
    "\n",
    "Based on the above checks and the outcomes (i.e., discrete distribution + not time bound), the <b>Binomial Distribution</b> can be followed. It can be calculated either using Probability Mass Function (i.e., pmf) or Cumulative Distribution Function (cdf) based on scenario, where the below 3 factors are considered / used:<br>\n",
    "* x: Number of count for which the probability is to be calculated<br>\n",
    "* n: Total population<br>\n",
    "* p: Probability of success<br>"
   ]
  },
  {
   "cell_type": "code",
   "execution_count": 12,
   "metadata": {},
   "outputs": [
    {
     "name": "stdout",
     "output_type": "stream",
     "text": [
      "From the sample of 50 books, the probability of getting exactly 3 books is  13.86 %\n"
     ]
    }
   ],
   "source": [
    "#i) Probability of getting exactly 3 statistics book:\n",
    "\n",
    "#Probability of getting exactly 3 statistics book:\n",
    "x = 3\n",
    "\n",
    "#Random 50 people are selected from the a village - i.e., population:\n",
    "n = 50\n",
    "\n",
    "#In an avg 1 out of 10 books is statistics book:\n",
    "p = 1/10\n",
    "\n",
    "#Since the probability is calculated for a single instance / count, we use probability mass function (i.e., pmf):\n",
    "p_pmf_3 = stats.binom.pmf(x, n, p)\n",
    "\n",
    "#Rounding off the probability obtained with 2 decimal places and printing the outcome:\n",
    "print(\"From the sample of 50 books, the probability of getting exactly 3 books is \", round(p_pmf_3*100, 2),\"%\")"
   ]
  },
  {
   "cell_type": "code",
   "execution_count": 13,
   "metadata": {},
   "outputs": [
    {
     "name": "stdout",
     "output_type": "stream",
     "text": [
      "From the sample of 50 books, the probability of getting atleast 3 books is  88.83 %\n"
     ]
    }
   ],
   "source": [
    "#ii) Probability of getting atleast 3 statistics books:\n",
    "\n",
    "#As the question says \"ATLEAST 3 stats book\", it is assumed that the probability is calculated for a instances >= 3\n",
    "x = 2 #i.e., the range between 0 and 2\n",
    "\n",
    "#Calculate the probability of getting 3 or more stats books using Cumulative Distribution Function (cdf)\n",
    "#As the total probability ranges between 0 and 1, we find the cumulative probability for the range 0-2 and \n",
    "                #subtract the same from 1 (i.e., 100% probability) to get the probability of 3 or more occurences\n",
    "p_cdf_atleast3 = 1 - stats.binom.cdf(x, n, p)\n",
    "\n",
    "#Rounding off the probability obtained with 2 decimal places and printing the outcome:\n",
    "print(\"From the sample of 50 books, the probability of getting atleast 3 books is \", round(p_cdf_atleast3*100, 2),\"%\")\n",
    "\n",
    "#The statement can also be writted as below:\n",
    "#(1 - (stats.binom.pmf(0,n,p) + stats.binom.pmf(1,n,p) + stats.binom.pmf(2,n,p)))*100"
   ]
  },
  {
   "cell_type": "code",
   "execution_count": 21,
   "metadata": {},
   "outputs": [
    {
     "name": "stdout",
     "output_type": "stream",
     "text": [
      "From the sample of 50 books, the probability of getting atmost 3 books is  25.03 %\n"
     ]
    }
   ],
   "source": [
    "#iii) Probability of getting atmost 3 statistics book:\n",
    "\n",
    "#As the question says \"ATMOST 3 stats book\", it is assumed that the probability is calculated for a instances <= 3\n",
    "x = 3 #i.e., the range between 0 and 3\n",
    "\n",
    "#Calculate the probability of getting 3 or less stats books using Cumulative Distribution Function (cdf)\n",
    "p_cdf_atmost3 = stats.binom.cdf(x, n, p)\n",
    "\n",
    "#Rounding off the probability obtained with 2 decimal places and printing the outcome:\n",
    "print(\"From the sample of 50 books, the probability of getting atmost 3 books is \", round(p_cdf_atmost3*100, 2),\"%\")\n",
    "\n",
    "#The statement can also be writted as below:\n",
    "#(stats.binom.pmf(0,n,p) + stats.binom.pmf(1,n,p) + stats.binom.pmf(2,n,p) + stats.binom.pmf(3,n,p))*100"
   ]
  },
  {
   "cell_type": "code",
   "execution_count": 47,
   "metadata": {},
   "outputs": [
    {
     "name": "stdout",
     "output_type": "stream",
     "text": [
      "From the sample of 50 books, the probability of getting between 3 and 10 books is  72.52 %\n"
     ]
    }
   ],
   "source": [
    "#iv) Probability of getting between 3 and 10 statistics book:\n",
    "\n",
    "#Assumptions: The numbers 3 and 10 are excluded for calculation\n",
    "#arange(from,to,step) is used to generate the numbers, where \"from\" is included and \"to\" is excluded with \"step\" size of +1\n",
    "x = np.arange(4, 10)\n",
    "\n",
    "#The probability is calculated for a range between 3 and 10 for which the probability mass function (pmf) is used.\n",
    "p_pmf_4_10= stats.binom.pmf(x, n, p)\n",
    "\n",
    "#The pmf of all values between 3 and 10 are calculated and are summed-up to get a total probability.\n",
    "#Rounding off the probability obtained with 2 decimal places and printing the outcome:\n",
    "print(\"From the sample of 50 books, the probability of getting between 3 and 10 books is \", round(p_pmf_4_10.sum()*100, 2),\"%\")"
   ]
  },
  {
   "cell_type": "code",
   "execution_count": 44,
   "metadata": {},
   "outputs": [
    {
     "data": {
      "image/png": "[encoded data removed]",
      "text/plain": [
       "<Figure size 576x432 with 1 Axes>"
      ]
     },
     "metadata": {
      "needs_background": "light"
     },
     "output_type": "display_data"
    }
   ],
   "source": [
    "#v) Plot the distribution graph:\n",
    "\n",
    "#arange(from,to) is used to generate the numbers, where \"from\" is included and \"to\" is excluded\n",
    "x = np.arange(0, 51)\n",
    "\n",
    "#The pmf of all values between 0 and 50 are calculated and the probabilities are visualized using pyplot\n",
    "distribution_graph = stats.binom.pmf(x, n, p)\n",
    "\n",
    "#Setting the figure size and visualizing the probabilities using the graph below:\n",
    "plt.figure(figsize=(8,6))\n",
    "plt.plot(x, distribution_graph,'o-')\n",
    "\n",
    "#Setting the title\n",
    "plt.title(\"Binomial Distribution (n={0}, p={1})\".format(n,p), fontsize = 15)\n",
    "\n",
    "#Setting the label for x-axis\n",
    "plt.xlabel(\"Number of successess\")\n",
    "\n",
    "#Setting the label for y-axis\n",
    "plt.ylabel(\"Probability of successess\")\n",
    "\n",
    "#Displaying the plot\n",
    "plt.show()"
   ]
  },
  {
   "cell_type": "markdown",
   "metadata": {},
   "source": [
    "#### Inferences:\n",
    "\n",
    "In the examples above, we have used <b>Probability Mass Function (i.e., pmf)</b> for the scenarios where the probability of the occurences of the specific instance (i.e., exactly 3 books) is required to be calculated and <b>Cumulative Distribution Function (cdf)</b> when we need to calculate the cumulative probability of occurences of multiple instances (i.e., between 3 and 10 books).\n",
    "\n",
    "From the sample of 50 books, the probability of getting:\n",
    "* exactly 3 books is  <b>13.86 %</b><br>\n",
    "* atleast 3 books is  <b>88.83 %</b><br>\n",
    "* atmost 3 books is  <b>25.03 %</b><br>\n",
    "* between 3 and 10 books is  <b>72.52 %</b><br>\n",
    "\n",
    "As per the question, on an average, 1 out of 10 books is a statistics book. Then we get ~5 stats book, when the books are drawn in random manner from the total population of 50 books. Hence, we see a <b>steady increase in the density from 0 to 4, peakness at 5 (i.e., 5 books), again a steady decrease in density from 6 to 10 and a flat line at 0 (i.e., indicating very less to 0% probablitiy) beyond 10 (i.e., 10 books)</b> in the above pyplot graph."
   ]
  },
  {
   "cell_type": "markdown",
   "metadata": {},
   "source": [
    "<span style=\"font-family: Arial; font-weight:bold;font-size:1.2em;\">2) In a village, the average number of people affected by corona virus in a day is 5.\n",
    "\n",
    "Find the probability of the following:\n",
    "\n",
    "(i) exactly 2 persons suffer.\n",
    "\n",
    "(ii) atleast 2 persons suffer.\n",
    "\n",
    "(iii) atmost 2 persons suffer.\n",
    "\n",
    "(iv) between 2 and 5 persons suffer. \n",
    "\n",
    "(v ) Plot the Distribution\n",
    "    \n",
    "[Note: Think what kind of distribution equation we need to use to solve all the above questions]"
   ]
  },
  {
   "cell_type": "markdown",
   "metadata": {},
   "source": [
    "#### Common Inferences:\n",
    "\n",
    "To pick the right approach, it is key to ensure the <b>type of distribution (i.e., discrete or continuous) and whether it is time bound or not</b>.\n",
    "\n",
    "<b>Checkpoint 1:</b> As the problem statement is regarding the number of persons, it doesn't yield a meaningful outcome when the result is expressed in fraction like  1.5, 2.75 persons etc. and should be a whole number like 3, 5 persons etc. (i.e., discrete in nature)\n",
    "\n",
    "<b>Checkpoint 2:</b> As the outcome is expressed for a time period of a day, it can be concluded that there is involvment of perdiocity factor.\n",
    "\n",
    "In addition, there can only 2 result for this problem - i.e, Either a person suffers or not suffers from coronovirus.\n",
    "\n",
    "Based on the above checks and the outcomes (i.e., discrete distribution + time bound data), the <b>Poisson Distribution</b> can be followed. It can be calculated either using Probability Mass Function (i.e., pmf) or Cumulative Distribution Function (cdf) based on scenario, where the below 3 factors are considered / used:<br>\n",
    "* x: Number of count for which the probability is to be calculated<br>\n",
    "* lambda: Avergae in the given time period"
   ]
  },
  {
   "cell_type": "code",
   "execution_count": 33,
   "metadata": {},
   "outputs": [
    {
     "name": "stdout",
     "output_type": "stream",
     "text": [
      "The probability of exactly 2 person suffering from coronovirus is 8.42 %\n"
     ]
    }
   ],
   "source": [
    "#i) Probability of  exactly 2 persons suffer:\n",
    "\n",
    "#Probability of getting exactly 2 person suffers due to corona virus:\n",
    "x = 2\n",
    "\n",
    "#In an avg 5 persons / day are getting infected due to corona virus:\n",
    "Lambda = 5\n",
    "\n",
    "#Since the probability is calculated for a single instance / count, we use probability mass function (i.e., pmf):\n",
    "p_pmf_2 = stats.poisson.pmf(x, Lambda)\n",
    "\n",
    "#Rounding off the probability obtained with 2 decimal places and printing the outcome:\n",
    "print(\"The probability of exactly 2 person suffering from coronovirus is\", round(p_pmf_2*100, 2),\"%\")"
   ]
  },
  {
   "cell_type": "code",
   "execution_count": 34,
   "metadata": {},
   "outputs": [
    {
     "name": "stdout",
     "output_type": "stream",
     "text": [
      "The probability of getting atleast 2 persons suffering from coronovirus is 0.96 %\n"
     ]
    }
   ],
   "source": [
    "#ii) Probability of getting atleast 2 persons suffer:\n",
    "\n",
    "#As the question says \"ATLEAST 2 persons suffer\", it is assumed that the probability is calculated for a instances >= 2\n",
    "x = 1 #i.e., 0 and 1\n",
    "\n",
    "#Calculate the probability of getting 2 or more infected persons using Cumulative Distribution Function (cdf)\n",
    "#As the total probability ranges between 0 and 1, we find the cumulative probability for the range 0-1 and \n",
    "                #subtract the same from 1 (i.e., 100% probability) to get the probability of 2 or more occurences\n",
    "p_cdf_atleast2 = 1 - stats.poisson.cdf(x, Lambda)\n",
    "\n",
    "#Rounding off the probability obtained with 2 decimal places and printing the outcome:\n",
    "print(\"The probability of getting atleast 2 persons suffering from coronovirus is\", round(p_cdf_atleast2, 2),\"%\")\n",
    "\n",
    "#The statement can also be writted as below:\n",
    "#(1 - (stats.binom.pmf(0,n,p) + stats.binom.pmf(1,n,p)))*100"
   ]
  },
  {
   "cell_type": "code",
   "execution_count": 35,
   "metadata": {},
   "outputs": [
    {
     "name": "stdout",
     "output_type": "stream",
     "text": [
      "The probability of getting atmost 2 persons suffering from coronovirus is 12.47 %\n"
     ]
    }
   ],
   "source": [
    "#iii) Probability of getting atmost 2 persons suffer:\n",
    "\n",
    "#As the question says \"ATMOST 2 persons suffer\", it is assumed that the probability is calculated for a instances <= 2\n",
    "x = 2 #i.e., the range between 0 and 2\n",
    "\n",
    "#Calculate the probability of getting 2 or less infected persons using Cumulative Distribution Function (cdf)\n",
    "p_cdf_2 = stats.poisson.cdf(x, Lambda)\n",
    "\n",
    "#Rounding off the probability obtained with 2 decimal places and printing the outcome:\n",
    "print(\"The probability of getting atmost 2 persons suffering from coronovirus is\", round(p_cdf_2*100, 2),\"%\")"
   ]
  },
  {
   "cell_type": "code",
   "execution_count": 46,
   "metadata": {},
   "outputs": [
    {
     "name": "stdout",
     "output_type": "stream",
     "text": [
      "The probability of getting between 2 and 5 persons suffering from coronovirus is 31.58 %\n"
     ]
    }
   ],
   "source": [
    "#iv) Probability of getting between 2 and 5 persons suffer:\n",
    "\n",
    "#Assumptions: The numbers 2 and 5 are excluded for calculation\n",
    "#arange(from,to,step) is used to generate the numbers, where \"from\" is included and \"to\" is excluded with \"step\" size of +1\n",
    "x = np.arange(3, 5)\n",
    "\n",
    "#The probability is calculated for the instances 3 and 4 for which the probability mass function (pmf) is used.\n",
    "p_pmf_3_5 = stats.poisson.pmf(x, Lambda)\n",
    "\n",
    "#The pmf of all values between 2 and 5 are calculated and are summed-up to get a total probability.\n",
    "#Rounding off the probability obtained with 2 decimal places and printing the outcome:\n",
    "print(\"The probability of getting between 2 and 5 persons suffering from coronovirus is\", round(p_pmf_3_5.sum()*100, 2),\"%\")"
   ]
  },
  {
   "cell_type": "code",
   "execution_count": 51,
   "metadata": {},
   "outputs": [
    {
     "data": {
      "image/png": "[encoded data removed]",
      "text/plain": [
       "<Figure size 576x432 with 1 Axes>"
      ]
     },
     "metadata": {
      "needs_background": "light"
     },
     "output_type": "display_data"
    }
   ],
   "source": [
    "#v) Plot the distribution graph:\n",
    "\n",
    "#arange(from,to) is used to generate the numbers, where \"from\" is included and \"to\" is excluded\n",
    "x = np.arange(0, 21)\n",
    "\n",
    "#The pmf of all values between 0 and 5 are calculated and the probabilities are visualized\n",
    "distribution_graph = stats.poisson.pmf(x, Lambda)\n",
    "\n",
    "#Setting the figure size and visualizing the probabilities using the pyplot below:\n",
    "plt.figure(figsize=(8,6))\n",
    "plt.plot(x, distribution_graph,'o-')\n",
    "\n",
    "#Setting the title\n",
    "plt.title(\"Poisson Distribution ($\\lambda$ = %i)\" % Lambda)\n",
    "\n",
    "#Setting the label for x-axis\n",
    "plt.xlabel(\"Number of people affected by coronavirus in a day\")\n",
    "\n",
    "#Setting the label for y-axis\n",
    "plt.ylabel(\"Probablity of number of people affected by coronavirus in a day\")\n",
    "\n",
    "#Displaying the pyplot\n",
    "plt.show()"
   ]
  },
  {
   "cell_type": "markdown",
   "metadata": {},
   "source": [
    "#### Inferences:\n",
    "\n",
    "In the examples above, we have used <b>Probability Mass Function (i.e., pmf)</b> for the scenarios where the probability of the occurences of the specific instance (i.e., exactly 2 persons) is required to be calculated and <b>Cumulative Distribution Function (cdf)</b> when we need to calculate the cumulative probability of occurences of multiple instances (i.e., between 2 and 5 persons).\n",
    "\n",
    "With the average of 5 persons getting infected to corona virus every day, the probability of:\n",
    "* exactly 2 person suffering from coronovirus is <b>8.42 %</b><br>\n",
    "* atleast 2 persons suffering from coronovirus is <b>0.96 %</b><br>\n",
    "* atmost 2 persons suffering from coronovirus is <b>12.47 %</b><br>\n",
    "* between 2 to 5 persons suffering from coronovirus is <b>31.58 %</b><br>\n",
    "\n",
    "As per the question, average number of persons getting affected due to Corona Virus is 5 per day. Hence, when we are checking the probability of getting different number of persons getting affected per day from 0 to 20, we see a <b>steady increase in the density from 0 to 4, peakness at 5 (i.e., 5 persons), again a steady decrease in density from 6 to 10 and a flat line at 0 (i.e., indicating very less to 0% probablitiy) beyond 10 (i.e., 10 persons)</b> in the above pyplot graph."
   ]
  },
  {
   "cell_type": "markdown",
   "metadata": {},
   "source": [
    "<span style=\"font-family: Arial; font-weight:bold;font-size:1.2em;\">3) The piston pressure in a randomly selected bike is normally distributed with mean value of 28 psi and standard deviation of 0.7 psi. \n",
    "\n",
    "\n",
    "What is the probability that the pressure for a randomly selected piston:\n",
    "\n",
    "(a) between 25 and 29 psi \n",
    "\n",
    "(b) less than 30 psi\n",
    "\n",
    "(c) greater than 30.5 psi  "
   ]
  },
  {
   "cell_type": "markdown",
   "metadata": {},
   "source": [
    "#### Common Inferences:\n",
    "\n",
    "To pick the right approach, it is key to ensure the <b>type of distribution (i.e., discrete or continuous)</b>.\n",
    "\n",
    "As the problem statement is regarding the bike piston pressure, it does give a meaningful outcome even when the result is expressed in fraction or <b>continuous</b> like  28.5, 31.75 pressure etc.\n",
    "\n",
    "As it can be continuously distributed, the <b>Normal Distribution</b> approach can be followed."
   ]
  },
  {
   "cell_type": "code",
   "execution_count": 60,
   "metadata": {},
   "outputs": [
    {
     "name": "stdout",
     "output_type": "stream",
     "text": [
      "The probability of getting a piston pressure between 25 and 29 is 92.34 %\n"
     ]
    }
   ],
   "source": [
    "#(a) between 25 and 29 psi:\n",
    "\n",
    "#Mean Value\n",
    "mean = 28\n",
    "\n",
    "#Standard Deviation\n",
    "std = 0.7\n",
    "\n",
    "#The probability of getting 29 psi can be subtracted from the probability of getting 25 psi, to\n",
    "                    #get the probability of psi range between 25 and 29:\n",
    "p_25_29 = stats.norm.cdf(29, loc=mean, scale=std) - stats.norm.cdf(25, loc=mean, scale=std)\n",
    "\n",
    "#Rounding off the probability obtained with 2 decimal places and printing the outcome:\n",
    "print(\"The probability of getting a piston pressure between 25 and 29 is\", round(p_25_29*100,2),\"%\")"
   ]
  },
  {
   "cell_type": "code",
   "execution_count": 61,
   "metadata": {},
   "outputs": [
    {
     "name": "stdout",
     "output_type": "stream",
     "text": [
      "The probability of getting a piston pressure less than 30 is 99.79 %\n"
     ]
    }
   ],
   "source": [
    "#(b) less than 30 psi:\n",
    "\n",
    "#The probability of getting any psi to the left area of 30 piston pressure\n",
    "#Note: 30 psi is approx. equal to 3 standard deviation of the mean 28 psi\n",
    "p_30 = stats.norm.cdf(30, loc=mean, scale=std)\n",
    "\n",
    "#Rounding off the probability obtained with 2 decimal places and printing the outcome:\n",
    "print(\"The probability of getting a piston pressure less than 30 is\", round(p_30*100,2),\"%\")"
   ]
  },
  {
   "cell_type": "code",
   "execution_count": 63,
   "metadata": {},
   "outputs": [
    {
     "name": "stdout",
     "output_type": "stream",
     "text": [
      "The probability of getting a piston pressure greater than 30.5 is 0.02 %\n"
     ]
    }
   ],
   "source": [
    "#(c) greater than 30.5 psi:\n",
    "\n",
    "#As the total probability ranges between 0 and 1, we find the cumulative probability for the range 0-30.5 and \n",
    "                #subtract the same from 1 (i.e., 100% probability) to get the probability of having greater than 30.5 psi:\n",
    "#Note: 30.5 psi is greater than 3 standard deviation of the mean 28 psi\n",
    "p_30_5 = 1 - stats.norm.cdf(30.5, loc=mean, scale=std)\n",
    "\n",
    "#Rounding off the probability obtained with 2 decimal places and printing the outcome:\n",
    "print(\"The probability of getting a piston pressure greater than 30.5 is\", round(p_30_5*100,2),\"%\")"
   ]
  },
  {
   "cell_type": "markdown",
   "metadata": {},
   "source": [
    "#### Inferences:\n",
    "\n",
    "In the examples above, we have used <b>Cumulative Distribution Function (cdf)</b> as calculated the cumulative probability of occurences of multiple instances (i.e., between 0 and 30.5 bike piston pressure / psi).\n",
    "\n",
    "As the randomly selected bike's piston pressure is normally distributed with mean value of 28 psi and standard deviation of 0.7 psi, the probability of getting a piston pressure:\n",
    "* between 25 and 29 is <b>92.34 %</b><br>\n",
    "* less than 30 is <b>99.79 %</b><br>\n",
    "* greater than 30.5 is <b>0.02 %</b><br>\n",
    "\n",
    "<b>Note:</b> 30 psi is approx. equal to and 30.5 psi is greater (i.e., outlier) than 3 standard deviation respectively."
   ]
  },
  {
   "cell_type": "markdown",
   "metadata": {},
   "source": [
    "<span style=\"font-family: Arial; font-weight:bold;font-size:1.2em;\">4) A sample of 400 bulbs is manufactued found to have a mean lifetime is 171.38 hrs. Can it\n",
    "reasonably be regarded as a large population with mean  more than 173 hrs\n",
    "and standard deviation of 3.3 hrs so that company can make profit(Test at 5% significance level).Will company make profit? Assume data is normally distributed. "
   ]
  },
  {
   "cell_type": "code",
   "execution_count": 113,
   "metadata": {},
   "outputs": [
    {
     "name": "stdout",
     "output_type": "stream",
     "text": [
      "The critical value is -1.6448536269514729\n",
      "\n",
      "The calculated z-stat value is -9.818181818181847\n"
     ]
    },
    {
     "data": {
      "text/plain": [
       "(171.05660594255087, 171.70339405744912)"
      ]
     },
     "execution_count": 113,
     "metadata": {},
     "output_type": "execute_result"
    }
   ],
   "source": [
    "#Step 1: Formulating the hypothesis:\n",
    " #H0(Null Hypothesis): An average lifetime of bulb <= 173 hrs\n",
    " #H1(Alternate Hypothesis): An average lifetime of bulb > 173 hrs\n",
    "\n",
    "#Step 2: Identifying the test\n",
    "#One sample test --> One tail (i.e., right tail)\n",
    "#As the sample size > 30, it follows the normal distribution and z-statistical test\n",
    "\n",
    "#Step 3: Calculating the critical value (the level of significance is 5%)\n",
    "z_critical = stats.norm.ppf(0.05)\n",
    "print(\"The critical value is\", z_critical)\n",
    "\n",
    "#Step 4: Calculating using the statistical test:\n",
    "spec_mean = 173\n",
    "samp_mean = 171.38\n",
    "std = 3.3\n",
    "sample = 400\n",
    "\n",
    "z_calc = ((samp_mean - spec_mean)/(std/np.sqrt(sample)))\n",
    "print(\"\\nThe calculated z-stat value is\",z_calc)\n",
    "\n",
    "#Step 5: Calculating the 95% confidence interval for population mean:\n",
    "stats.norm.interval(0.95, loc= samp_mean , scale = std/np.sqrt(sample))"
   ]
  },
  {
   "cell_type": "markdown",
   "metadata": {},
   "source": [
    "#### Inferences:\n",
    "    \n",
    "1. From the statistical test, the calculated z-stat value (i.e., 9.818) is greater than the critical value (i.e., 1.644)\n",
    "2. Calculating the 95% confidence interval, the population mean 173 does not lie within the range (171.05660594255087, 171.70339405744912)\n",
    "\n",
    "From 1 and 2, we can <b>reject the null hypothesis</b>. Hence the average life time of bulb is greater than 173 and the company will make the profit."
   ]
  },
  {
   "cell_type": "markdown",
   "metadata": {},
   "source": [
    "<span style=\"font-family: Arial; font-weight:bold;font-size:1.2em;\">5) The data of weight loss program is given below. Find whether gender has any effect in weight loss. \n",
    "\n",
    "\n",
    "Weight_loss_Male   = [ 3.69, 4.12, 4.65, 3.19,  4.34, 3.68, 4.12, 4.50, 3.70, 3.09,3.65, 4.73, 3.93, 3.46, 3.28, 4.43, 4.13, 3.62, 3.71, 2.92]\n",
    "\n",
    "Weight_loss_Female = [2.99, 1.80, 3.79, 4.12, 1.76, 3.50, 3.61, 2.32, 3.67, 4.26, 4.57, 3.01, 3.82, 4.33, 3.40, 3.86]\n",
    "\n",
    "Calculate the test statistic and p value manually and compare with the inbuilt function.\n",
    "    \n",
    "**Note: Assume data is normally distributed**"
   ]
  },
  {
   "cell_type": "markdown",
   "metadata": {},
   "source": [
    "#### General Inferences:\n",
    "\n",
    "Determining whether the mean female weight is significantly different or same as that of mean men weight, which are unrelated (i.e., independent or unpaired) to each other. Hence, it comes under <b>Two sample independent test</b>. \n",
    "\n",
    "In the addition, the sample size is less than 30 and hence, we are following t-distribution.\n",
    "\n",
    "<b>Formulating the hypothesis:</b>\n",
    "* <b>H0:</b> The male and female gender has effect in weight loss\n",
    "* <b>H1:</b> The male and female gender has no effect in weight loss"
   ]
  },
  {
   "cell_type": "code",
   "execution_count": 64,
   "metadata": {},
   "outputs": [],
   "source": [
    "#Weight loss for male:\n",
    "male = [ 3.69, 4.12, 4.65, 3.19, 4.34, 3.68, 4.12, 4.50, 3.70, 3.09,\n",
    "                    3.65, 4.73, 3.93, 3.46, 3.28, 4.43, 4.13, 3.62, 3.71, 2.92]\n",
    "\n",
    "#Weight loss for female:\n",
    "female = [2.99, 1.80, 3.79, 4.12, 1.76, 3.50, 3.61, 2.32, 3.67, 4.26, \n",
    "                      4.57, 3.01, 3.82, 4.33, 3.40, 3.86]"
   ]
  },
  {
   "cell_type": "code",
   "execution_count": 95,
   "metadata": {},
   "outputs": [
    {
     "name": "stdout",
     "output_type": "stream",
     "text": [
      "Number of persons who had weight loss:\n",
      "\ta. Male: 20\n",
      "\tb. Female: 16\n",
      "\n",
      "Average weight loss of persons:\n",
      "\ta. Male: 3.85\n",
      "\tb. Female: 3.43\n",
      "\n",
      "Standard deviation of weight loss of persons:\n",
      "\ta. Male: 0.51\n",
      "\tb. Female: 0.82\n",
      "\n",
      "Pooled Standard Deviation: 0.67\n",
      "\n",
      "Manually calculated values:\n",
      "\ta. tstat value: 1.88\n",
      "\tb. p_value: 0.07 ( as the 'Degree of freedeom' is 34 )\n",
      "\n",
      "Calculations using built-in methods:\n",
      "\ta. t_stat: 1.83\n",
      "\tb. p_value: 0.076\n"
     ]
    }
   ],
   "source": [
    "#Step 1: Checking the sample size:\n",
    "\n",
    "print(\"Number of persons who had weight loss:\")\n",
    "\n",
    "#a. Population of male:\n",
    "n_male = len(male)\n",
    "print(\"\\ta. Male:\", n_male)\n",
    "\n",
    "#b. Population of female:\n",
    "n_female = len(female)\n",
    "print(\"\\tb. Female:\", n_female)\n",
    "\n",
    "#Step 2: Calculating the mean weight loss:\n",
    "\n",
    "print(\"\\nAverage weight loss of persons:\")\n",
    "\n",
    "#a. Mean weight loss of male:\n",
    "mean_male = np.mean(male)\n",
    "print(\"\\ta. Male:\", round(mean_male,2))\n",
    "\n",
    "#b. Mean weight loss of female:\n",
    "mean_female = np.mean(female)\n",
    "print(\"\\tb. Female:\", round(mean_female,2))\n",
    "\n",
    "#Step 3: Calculating the standard deviation of weight loss:\n",
    "\n",
    "print(\"\\nStandard deviation of weight loss of persons:\")\n",
    "\n",
    "#a. Male's standard deviation of weight loss:\n",
    "std_male = np.std(male)\n",
    "print(\"\\ta. Male:\", round(std_male,2))\n",
    "\n",
    "#b. Female's standard deviation of weight loss:\n",
    "std_female = np.std(female)\n",
    "print(\"\\tb. Female:\", round(std_female,2))\n",
    "\n",
    "#Step 4: Calculating the Pooled Standard Deviation:\n",
    "pooled_std = np.sqrt((((n_male - 1) * (std_male ** 2)) + ((n_female - 1) * (std_female ** 2))) / (n_male + n_female - 2))\n",
    "print(\"\\nPooled Standard Deviation:\", round(pooled_std,2))\n",
    "\n",
    "print(\"\\nManually calculated values:\")\n",
    "\n",
    "#Step 5: Calculating the tstat:\n",
    "t_stat = (mean_male - mean_female) / (pooled_std * np.sqrt((1 / n_male) + (1 / n_female)))\n",
    "print(\"\\ta. tstat value:\", round(t_stat,2))\n",
    "\n",
    "#Step 6: Calculating the p-value:\n",
    "\n",
    "#Calculating the Degree of freedom:\n",
    "dof = n_male + n_female - 2\n",
    "\n",
    "#With reference to the t-distribution table, the p-value is assumed to be 0.035 as:\n",
    "#a. The t-stats value of 1.88 lies between those range of 1.691 and 2.032 for degree of freedom 34\n",
    "#b. The corresponding p-value for 1.691 and 2.032 are 0.025 and 0.05 respectively\n",
    "\n",
    "#As it is 2-tail test, the p-value is multipled by 2:\n",
    "p_value = 0.035 * 2\n",
    "print(\"\\tb. p_value:\", round(p_value,3),\"( as the 'Degree of freedeom' is\",dof,\")\")\n",
    "\n",
    "#Step 7: Calculating the tstat and p-value using the built-in methods:\n",
    "print(\"\\nCalculations using built-in methods:\")\n",
    "t_stat_builtin, p_value_builtin = stats.ttest_ind(male, female)\n",
    "print(\"\\ta. t_stat:\",round(t_stat_builtin,2))\n",
    "print(\"\\tb. p_value:\",round(p_value_builtin,3))"
   ]
  },
  {
   "cell_type": "markdown",
   "metadata": {},
   "source": [
    "#### Inferences:\n",
    "    \n",
    "As it is a two sample independent test and we are following t-distribution, considering the sample size, we are calculating the sample size, mean and the standard devaition of both the features (i.e., male and female) for performing the manually calculation.\n",
    "\n",
    "<b>Number of persons who had weight loss:</b><br>\n",
    "a. Male: <b>20</b><br>\n",
    "b. Female: <b>16</b>\n",
    "\n",
    "<b>Average weight loss of persons:</b><br>\n",
    "a. Male: <b>3.85</b><br>\n",
    "b. Feamle: <b>3.43</b>\n",
    "\n",
    "<b>Standard deviation of weight loss of persons:</b><br>\n",
    "a. Male: <b>0.51</b><br>\n",
    "b. Female: <b>0.82</b>\n",
    "    \n",
    "<b>T-stat value:</b><br>\n",
    "a. Manually calculation: <b>1.88</b><br>\n",
    "b. Built-in function based calculation: <b>1.82</b>\n",
    "\n",
    "<b>p-value:</b><br>\n",
    "a. Manually calculation using t-distribution table: <b>0.07</b><br>\n",
    "b. Built-in function based calculation: <b>0.076</b>\n",
    "\n",
    "From the above results, we could see that the results of manually calculations and based on built-in functions are very closer to each other. Since the <b>p-value is greater than 0.05, we will fail to reject the null hypothesis</b>. Hence, both the gender has effect in the weight loss."
   ]
  },
  {
   "cell_type": "markdown",
   "metadata": {},
   "source": [
    "<span style=\"font-family: Arial; font-weight:bold;font-size:1.2em;\">6) The data of weight gain program is given below.Find whether the program is effective. \n",
    "    \n",
    "\n",
    "Weight_before =[52, 56, 61, 47, 58, 52, 56, 60, 52, 46, 51, 62, 54, 50, 48, 59, 56, 51, 52, 44, 52, 45, 57, 60, 45]\n",
    "\n",
    "Weight_after  =[62, 64, 40, 65, 76, 82, 53, 68, 77, 60, 69, 34, 69, 73, 67, 82, 62, 49, 44, 43, 77, 61, 67, 67, 54]\n",
    "\n",
    "**Note: Assume data is normally distributed and have equal variance.**"
   ]
  },
  {
   "cell_type": "markdown",
   "metadata": {},
   "source": [
    "#### General Inferences:\n",
    "\n",
    "In the above problem, the paired effectiveness of weight gain program is measured and the observations are recorded for the same data twice resulting in a pairs. Hence, we can conclude that the above test falls under <b>Two sample tests for paired data</b>. In addition, the sample size is less than 30 and hence, we are following t-distribution.\n",
    "\n",
    "<b>Formulating the hypothesis:</b>\n",
    "* <b>h0</b> = The weight gain program was not effective\n",
    "* <b>ha</b> = The weight gain program was effective"
   ]
  },
  {
   "cell_type": "code",
   "execution_count": 97,
   "metadata": {},
   "outputs": [],
   "source": [
    "Weight_before =[52, 56, 61, 47, 58, 52, 56, 60, 52, 46, 51, 62, 54, 50, \n",
    "                48, 59, 56, 51, 52, 44, 52, 45, 57, 60, 45]\n",
    "\n",
    "Weight_after  =[62, 64, 40, 65, 76, 82, 53, 68, 77, 60, 69, 34, 69, 73, \n",
    "                67, 82, 62, 49, 44, 43, 77, 61, 67, 67, 54]"
   ]
  },
  {
   "cell_type": "code",
   "execution_count": 111,
   "metadata": {},
   "outputs": [
    {
     "name": "stdout",
     "output_type": "stream",
     "text": [
      "The length of:\n",
      "\ta. Weight_before feature is 25\n",
      "\tb. Weight_after feature is 25\n",
      "\n",
      "The calculated t-critical value for level of significance 0.05 is 1.71\n",
      "\n",
      "The calculated values are:\n",
      "\ta. t-stat value is 3.405\n",
      "\tb. p-value is 0.002\n",
      "\n",
      "Since the t_stat value (i.e., 3.405) is greater than t-critical value (i.e., 1.71), we reject the null hypothesis\n",
      "\n",
      "Since the p_value (i.e., 0.002) is lesser than 0.05, we reject the null hypothesis\n"
     ]
    }
   ],
   "source": [
    "#Step 1: Computing the length of both the samples:\n",
    "\n",
    "weight_before_len = len(Weight_before)\n",
    "weight_after_len = len(Weight_after)\n",
    "print(\"The length of:\")\n",
    "print(\"\\ta. Weight_before feature is\",weight_before_len)\n",
    "print(\"\\tb. Weight_after feature is\",weight_after_len)\n",
    "\n",
    "#Step 2: Calculating the critical value:\n",
    "\n",
    "#Since the confidence level is not mentione we calculate the t-value for 95% confidence level\n",
    "#Using stats.t.isf() to find the t-value corresponding to the upper tail probability  'q'\n",
    "#Passing the value of alpha to the parameter q, here alpha is 0.05\n",
    "#Passing the degrees of fredom as df, which is population - 1 (i.e., weight_before_len - 1)\n",
    "t_critical = round(stats.t.isf(q = 0.05, df = weight_before_len - 1), 2)\n",
    "print(\"\\nThe calculated t-critical value for level of significance 0.05 is\",t_critical)\n",
    "\n",
    "#Step 3: Calculating t-stat value and p-value for paired samples using ttest_rel() function:\n",
    "#Passing the after and before weight to the function\n",
    "\n",
    "t_stat, p_value = stats.ttest_rel(Weight_after, Weight_before)\n",
    "print(\"\\nThe calculated values are:\")\n",
    "print(\"\\ta. t-stat value is\", round(t_stat,3))\n",
    "print(\"\\tb. p-value is\", round(p_value,3))\n",
    "\n",
    "#Step 4: Conclusion based on t-stat:\n",
    "\n",
    "if(t_stat < t_critical):\n",
    "    print(\"\\nSince the t_stat value (i.e., {0}) is lesser than t-critical value (i.e., {1}, we fail to reject the null hypothesis\".\n",
    "         format(round(t_stat,3),t_critical))\n",
    "else:\n",
    "    print(\"\\nSince the t_stat value (i.e., {0}) is greater than t-critical value (i.e., {1}), we reject the null hypothesis\".\n",
    "    format(round(t_stat,3),t_critical))\n",
    "\n",
    "#Step 5: Conclusion based on p-value:\n",
    "\n",
    "if(p_value > 0.05):\n",
    "    print(\"\\nSince the p_value (i.e., {0}) is greater than 0.05, we fail to reject the null hypothesis\".\n",
    "          format(round(p_value,3)))\n",
    "else:\n",
    "    print(\"\\nSince the p_value (i.e., {0}) is lesser than 0.05, we reject the null hypothesis\".\n",
    "          format(round(p_value,3)))"
   ]
  },
  {
   "cell_type": "markdown",
   "metadata": {},
   "source": [
    "#### Inferences:\n",
    "    \n",
    "From the above results, we could see that the t_stat is greater than the critical value and p-value is less than 0.05. So, we <b>will reject the null hypothesis</b>. Hence the weight gain program is effective."
   ]
  },
  {
   "cell_type": "markdown",
   "metadata": {},
   "source": [
    "# Parkinson Data Statistical Analysis"
   ]
  },
  {
   "cell_type": "markdown",
   "metadata": {},
   "source": [
    "**Attribute Information:**\n",
    "\n",
    "Matrix column entries (attributes):\n",
    "\n",
    "name - ASCII subject name and recording number\n",
    "\n",
    "MDVP:Fo(Hz) - Average vocal fundamental frequency\n",
    "\n",
    "MDVP:Fhi(Hz) - Maximum vocal fundamental frequency\n",
    "\n",
    "MDVP:Flo(Hz) - Minimum vocal fundamental frequency\n",
    "\n",
    "MDVP:Jitter(%),MDVP:Jitter(Abs),MDVP:RAP,MDVP:PPQ,Jitter:DDP - Several measures of variation in fundamental frequency\n",
    "\n",
    "MDVP:Shimmer,MDVP:Shimmer(dB),Shimmer:APQ3,Shimmer:APQ5,MDVP:APQ,Shimmer:DDA - Several measures of variation in amplitude\n",
    "\n",
    "NHR,HNR - Two measures of ratio of noise to tonal components in the voice\n",
    "\n",
    "status - Health status of the subject (one) - Parkinson's, (zero) - healthy\n",
    "\n",
    "RPDE,D2 - Two nonlinear dynamical complexity measures\n",
    "\n",
    "DFA - Signal fractal scaling exponent\n",
    "\n",
    "spread1,spread2,PPE - Three nonlinear measures of fundamental frequency variation"
   ]
  },
  {
   "cell_type": "markdown",
   "metadata": {},
   "source": [
    "#### Reading file"
   ]
  },
  {
   "cell_type": "code",
   "execution_count": 115,
   "metadata": {},
   "outputs": [
    {
     "data": {
      "text/html": [
       "<div>\n",
       "<style scoped>\n",
       "    .dataframe tbody tr th:only-of-type {\n",
       "        vertical-align: middle;\n",
       "    }\n",
       "\n",
       "    .dataframe tbody tr th {\n",
       "        vertical-align: top;\n",
       "    }\n",
       "\n",
       "    .dataframe thead th {\n",
       "        text-align: right;\n",
       "    }\n",
       "</style>\n",
       "<table border=\"1\" class=\"dataframe\">\n",
       "  <thead>\n",
       "    <tr style=\"text-align: right;\">\n",
       "      <th></th>\n",
       "      <th>name</th>\n",
       "      <th>MDVP:Fo(Hz)</th>\n",
       "      <th>MDVP:Fhi(Hz)</th>\n",
       "      <th>MDVP:Flo(Hz)</th>\n",
       "      <th>MDVP:Jitter(%)</th>\n",
       "      <th>MDVP:Jitter(Abs)</th>\n",
       "      <th>MDVP:RAP</th>\n",
       "      <th>MDVP:PPQ</th>\n",
       "      <th>Jitter:DDP</th>\n",
       "      <th>MDVP:Shimmer</th>\n",
       "      <th>...</th>\n",
       "      <th>Shimmer:DDA</th>\n",
       "      <th>NHR</th>\n",
       "      <th>HNR</th>\n",
       "      <th>status</th>\n",
       "      <th>RPDE</th>\n",
       "      <th>DFA</th>\n",
       "      <th>spread1</th>\n",
       "      <th>spread2</th>\n",
       "      <th>D2</th>\n",
       "      <th>PPE</th>\n",
       "    </tr>\n",
       "  </thead>\n",
       "  <tbody>\n",
       "    <tr>\n",
       "      <th>0</th>\n",
       "      <td>phon_R01_S01_1</td>\n",
       "      <td>119.992</td>\n",
       "      <td>157.302</td>\n",
       "      <td>74.997</td>\n",
       "      <td>0.00784</td>\n",
       "      <td>0.00007</td>\n",
       "      <td>0.00370</td>\n",
       "      <td>0.00554</td>\n",
       "      <td>0.01109</td>\n",
       "      <td>0.04374</td>\n",
       "      <td>...</td>\n",
       "      <td>0.06545</td>\n",
       "      <td>0.02211</td>\n",
       "      <td>21.033</td>\n",
       "      <td>1</td>\n",
       "      <td>0.414783</td>\n",
       "      <td>0.815285</td>\n",
       "      <td>-4.813031</td>\n",
       "      <td>0.266482</td>\n",
       "      <td>2.301442</td>\n",
       "      <td>0.284654</td>\n",
       "    </tr>\n",
       "    <tr>\n",
       "      <th>1</th>\n",
       "      <td>phon_R01_S01_2</td>\n",
       "      <td>122.400</td>\n",
       "      <td>148.650</td>\n",
       "      <td>113.819</td>\n",
       "      <td>0.00968</td>\n",
       "      <td>0.00008</td>\n",
       "      <td>0.00465</td>\n",
       "      <td>0.00696</td>\n",
       "      <td>0.01394</td>\n",
       "      <td>0.06134</td>\n",
       "      <td>...</td>\n",
       "      <td>0.09403</td>\n",
       "      <td>0.01929</td>\n",
       "      <td>19.085</td>\n",
       "      <td>1</td>\n",
       "      <td>0.458359</td>\n",
       "      <td>0.819521</td>\n",
       "      <td>-4.075192</td>\n",
       "      <td>0.335590</td>\n",
       "      <td>2.486855</td>\n",
       "      <td>0.368674</td>\n",
       "    </tr>\n",
       "    <tr>\n",
       "      <th>2</th>\n",
       "      <td>phon_R01_S01_3</td>\n",
       "      <td>116.682</td>\n",
       "      <td>131.111</td>\n",
       "      <td>111.555</td>\n",
       "      <td>0.01050</td>\n",
       "      <td>0.00009</td>\n",
       "      <td>0.00544</td>\n",
       "      <td>0.00781</td>\n",
       "      <td>0.01633</td>\n",
       "      <td>0.05233</td>\n",
       "      <td>...</td>\n",
       "      <td>0.08270</td>\n",
       "      <td>0.01309</td>\n",
       "      <td>20.651</td>\n",
       "      <td>1</td>\n",
       "      <td>0.429895</td>\n",
       "      <td>0.825288</td>\n",
       "      <td>-4.443179</td>\n",
       "      <td>0.311173</td>\n",
       "      <td>2.342259</td>\n",
       "      <td>0.332634</td>\n",
       "    </tr>\n",
       "    <tr>\n",
       "      <th>3</th>\n",
       "      <td>phon_R01_S01_4</td>\n",
       "      <td>116.676</td>\n",
       "      <td>137.871</td>\n",
       "      <td>111.366</td>\n",
       "      <td>0.00997</td>\n",
       "      <td>0.00009</td>\n",
       "      <td>0.00502</td>\n",
       "      <td>0.00698</td>\n",
       "      <td>0.01505</td>\n",
       "      <td>0.05492</td>\n",
       "      <td>...</td>\n",
       "      <td>0.08771</td>\n",
       "      <td>0.01353</td>\n",
       "      <td>20.644</td>\n",
       "      <td>1</td>\n",
       "      <td>0.434969</td>\n",
       "      <td>0.819235</td>\n",
       "      <td>-4.117501</td>\n",
       "      <td>0.334147</td>\n",
       "      <td>2.405554</td>\n",
       "      <td>0.368975</td>\n",
       "    </tr>\n",
       "    <tr>\n",
       "      <th>4</th>\n",
       "      <td>phon_R01_S01_5</td>\n",
       "      <td>116.014</td>\n",
       "      <td>141.781</td>\n",
       "      <td>110.655</td>\n",
       "      <td>0.01284</td>\n",
       "      <td>0.00011</td>\n",
       "      <td>0.00655</td>\n",
       "      <td>0.00908</td>\n",
       "      <td>0.01966</td>\n",
       "      <td>0.06425</td>\n",
       "      <td>...</td>\n",
       "      <td>0.10470</td>\n",
       "      <td>0.01767</td>\n",
       "      <td>19.649</td>\n",
       "      <td>1</td>\n",
       "      <td>0.417356</td>\n",
       "      <td>0.823484</td>\n",
       "      <td>-3.747787</td>\n",
       "      <td>0.234513</td>\n",
       "      <td>2.332180</td>\n",
       "      <td>0.410335</td>\n",
       "    </tr>\n",
       "  </tbody>\n",
       "</table>\n",
       "<p>5 rows × 24 columns</p>\n",
       "</div>"
      ],
      "text/plain": [
       "             name  MDVP:Fo(Hz)  MDVP:Fhi(Hz)  MDVP:Flo(Hz)  MDVP:Jitter(%)  \\\n",
       "0  phon_R01_S01_1      119.992       157.302        74.997         0.00784   \n",
       "1  phon_R01_S01_2      122.400       148.650       113.819         0.00968   \n",
       "2  phon_R01_S01_3      116.682       131.111       111.555         0.01050   \n",
       "3  phon_R01_S01_4      116.676       137.871       111.366         0.00997   \n",
       "4  phon_R01_S01_5      116.014       141.781       110.655         0.01284   \n",
       "\n",
       "   MDVP:Jitter(Abs)  MDVP:RAP  MDVP:PPQ  Jitter:DDP  MDVP:Shimmer  ...  \\\n",
       "0           0.00007   0.00370   0.00554     0.01109       0.04374  ...   \n",
       "1           0.00008   0.00465   0.00696     0.01394       0.06134  ...   \n",
       "2           0.00009   0.00544   0.00781     0.01633       0.05233  ...   \n",
       "3           0.00009   0.00502   0.00698     0.01505       0.05492  ...   \n",
       "4           0.00011   0.00655   0.00908     0.01966       0.06425  ...   \n",
       "\n",
       "   Shimmer:DDA      NHR     HNR  status      RPDE       DFA   spread1  \\\n",
       "0      0.06545  0.02211  21.033       1  0.414783  0.815285 -4.813031   \n",
       "1      0.09403  0.01929  19.085       1  0.458359  0.819521 -4.075192   \n",
       "2      0.08270  0.01309  20.651       1  0.429895  0.825288 -4.443179   \n",
       "3      0.08771  0.01353  20.644       1  0.434969  0.819235 -4.117501   \n",
       "4      0.10470  0.01767  19.649       1  0.417356  0.823484 -3.747787   \n",
       "\n",
       "    spread2        D2       PPE  \n",
       "0  0.266482  2.301442  0.284654  \n",
       "1  0.335590  2.486855  0.368674  \n",
       "2  0.311173  2.342259  0.332634  \n",
       "3  0.334147  2.405554  0.368975  \n",
       "4  0.234513  2.332180  0.410335  \n",
       "\n",
       "[5 rows x 24 columns]"
      ]
     },
     "execution_count": 115,
     "metadata": {},
     "output_type": "execute_result"
    }
   ],
   "source": [
    "#Reaading the csv file:\n",
    "data=pd.read_csv('parkinson.csv')\n",
    "\n",
    "#Displaying the top 5 values:\n",
    "data.head(5)"
   ]
  },
  {
   "cell_type": "code",
   "execution_count": 116,
   "metadata": {},
   "outputs": [
    {
     "name": "stdout",
     "output_type": "stream",
     "text": [
      "<class 'pandas.core.frame.DataFrame'>\n",
      "RangeIndex: 195 entries, 0 to 194\n",
      "Data columns (total 24 columns):\n",
      " #   Column            Non-Null Count  Dtype  \n",
      "---  ------            --------------  -----  \n",
      " 0   name              195 non-null    object \n",
      " 1   MDVP:Fo(Hz)       195 non-null    float64\n",
      " 2   MDVP:Fhi(Hz)      195 non-null    float64\n",
      " 3   MDVP:Flo(Hz)      195 non-null    float64\n",
      " 4   MDVP:Jitter(%)    195 non-null    float64\n",
      " 5   MDVP:Jitter(Abs)  195 non-null    float64\n",
      " 6   MDVP:RAP          195 non-null    float64\n",
      " 7   MDVP:PPQ          195 non-null    float64\n",
      " 8   Jitter:DDP        195 non-null    float64\n",
      " 9   MDVP:Shimmer      195 non-null    float64\n",
      " 10  MDVP:Shimmer(dB)  195 non-null    float64\n",
      " 11  Shimmer:APQ3      195 non-null    float64\n",
      " 12  Shimmer:APQ5      195 non-null    float64\n",
      " 13  MDVP:APQ          195 non-null    float64\n",
      " 14  Shimmer:DDA       195 non-null    float64\n",
      " 15  NHR               195 non-null    float64\n",
      " 16  HNR               195 non-null    float64\n",
      " 17  status            195 non-null    int64  \n",
      " 18  RPDE              195 non-null    float64\n",
      " 19  DFA               195 non-null    float64\n",
      " 20  spread1           195 non-null    float64\n",
      " 21  spread2           195 non-null    float64\n",
      " 22  D2                195 non-null    float64\n",
      " 23  PPE               195 non-null    float64\n",
      "dtypes: float64(22), int64(1), object(1)\n",
      "memory usage: 36.7+ KB\n"
     ]
    }
   ],
   "source": [
    "# Using info() method to check for shape, data type and non null values\n",
    "data.info()"
   ]
  },
  {
   "cell_type": "code",
   "execution_count": 123,
   "metadata": {},
   "outputs": [],
   "source": [
    "#User defined method for Shappiro and Levene test:\n",
    "\n",
    "def check_assumption(grp1,grp2):\n",
    "    \n",
    "    t,p=stats.shapiro(grp1)\n",
    "    \n",
    "    print(\"Shapiro Test Outcome:\")\n",
    "    \n",
    "    if p>0.05:\n",
    "        print(\"\\ta. Group 1 is normally distributed\")\n",
    "    else:\n",
    "        print(\"\\ta. Group 1 is not normally distributed\")\n",
    "        \n",
    "    t,p=stats.shapiro(grp2)\n",
    "    \n",
    "    if p>0.05:\n",
    "        print(\"\\tb. Group 2 is normally distributed\")\n",
    "    else:\n",
    "        print(\"\\tb. Group 2 is not normally distributed\")\n",
    "    \n",
    "    t,p=stats.levene(grp1,grp2)\n",
    "    \n",
    "    if p>0.05:\n",
    "        print(\"Levene Test Outcome: Two groups variance are same\")\n",
    "    else:\n",
    "        print(\"Levene Test Outcome: Two groups variance are not same\")\n",
    "    return"
   ]
  },
  {
   "cell_type": "markdown",
   "metadata": {},
   "source": [
    "# Statistical Tests "
   ]
  },
  {
   "cell_type": "markdown",
   "metadata": {},
   "source": [
    "### 1) Find  whether MDVP:Fhi(Hz)  is helpful in predicting Status? "
   ]
  },
  {
   "cell_type": "code",
   "execution_count": 119,
   "metadata": {},
   "outputs": [
    {
     "data": {
      "text/plain": [
       "array([1, 0], dtype=int64)"
      ]
     },
     "execution_count": 119,
     "metadata": {},
     "output_type": "execute_result"
    }
   ],
   "source": [
    "data.status.unique() # (one) - Parkinson's, (zero) - healthy"
   ]
  },
  {
   "cell_type": "code",
   "execution_count": 125,
   "metadata": {},
   "outputs": [
    {
     "name": "stdout",
     "output_type": "stream",
     "text": [
      "Shapiro Test Outcome:\n",
      "\ta. Group 1 is not normally distributed\n",
      "\tb. Group 2 is not normally distributed\n",
      "Levene Test Outcome: Two groups variance are same\n",
      "\n",
      "The length of:\n",
      "\tGroup 1: 48\n",
      "\tGroup 2: 147\n"
     ]
    }
   ],
   "source": [
    "#Creating two groups based on status where group 1 is healthy and group 2 is parkinson\n",
    "group1 = data['MDVP:Fhi(Hz)'][data.status == 0]\n",
    "group2 = data['MDVP:Fhi(Hz)'][data.status == 1]\n",
    "\n",
    "#Checking for the normal distribution and variance\n",
    "check_assumption(group1, group2)\n",
    "print(\"\\nThe length of:\")\n",
    "print(\"\\tGroup 1:\", len(group1))\n",
    "print(\"\\tGroup 2:\", len(group2))"
   ]
  },
  {
   "cell_type": "markdown",
   "metadata": {},
   "source": [
    "#### Inferences:\n",
    "\n",
    "1. The data is divided into two features - Group 1 (i.e., Healthy) and Group 2 (i.e., Parkinson) with MDVP:Fhi(Hz) entry and their length is 48 and 147.\n",
    "2. Since these groups are not normally distributed, the non-parametric test (i.e., Mannwhitneyu) can be used."
   ]
  },
  {
   "cell_type": "code",
   "execution_count": 130,
   "metadata": {},
   "outputs": [
    {
     "name": "stdout",
     "output_type": "stream",
     "text": [
      "The calculated values are:\n",
      "\ta. stat value is 4762.0\n",
      "\tb. p-value value is 0.00027962702389475045\n",
      "\n",
      "Conclusion: Reject the null hypothesis\n",
      "MDVP:Fhi(Hz) is not helpful in predicting Status\n"
     ]
    }
   ],
   "source": [
    "#Formulating the hypothesis:\n",
    "H0 = \"MDVP:Fhi(Hz) is helpful in predicting Status\"\n",
    "H1 = \"MDVP:Fhi(Hz) is not helpful in predicting Status\"\n",
    "\n",
    "#Using Mannwhitneyu test for calculating stat value and p-value:\n",
    "stat,pvalue = stats.mannwhitneyu(group1,group2)\n",
    "print(\"The calculated values are:\")\n",
    "print(\"\\ta. stat value is\", stat)\n",
    "print(\"\\tb. p-value value is\", pvalue)\n",
    "\n",
    "#Conclusion based on pvalue:\n",
    "if pvalue > 0.05:\n",
    "    print(\"\\nConclusion: Fail to reject the null hypothesis\")\n",
    "    print(H0)\n",
    "else:\n",
    "    print(\"\\nConclusion: Reject the null hypothesis\")\n",
    "    print(H1)"
   ]
  },
  {
   "cell_type": "code",
   "execution_count": 131,
   "metadata": {},
   "outputs": [
    {
     "data": {
      "text/html": [
       "<div>\n",
       "<style scoped>\n",
       "    .dataframe tbody tr th:only-of-type {\n",
       "        vertical-align: middle;\n",
       "    }\n",
       "\n",
       "    .dataframe tbody tr th {\n",
       "        vertical-align: top;\n",
       "    }\n",
       "\n",
       "    .dataframe thead th {\n",
       "        text-align: right;\n",
       "    }\n",
       "</style>\n",
       "<table border=\"1\" class=\"dataframe\">\n",
       "  <thead>\n",
       "    <tr style=\"text-align: right;\">\n",
       "      <th></th>\n",
       "      <th>MDVP:Fhi(Hz)</th>\n",
       "      <th>status</th>\n",
       "    </tr>\n",
       "  </thead>\n",
       "  <tbody>\n",
       "    <tr>\n",
       "      <th>MDVP:Fhi(Hz)</th>\n",
       "      <td>1.000000</td>\n",
       "      <td>-0.166136</td>\n",
       "    </tr>\n",
       "    <tr>\n",
       "      <th>status</th>\n",
       "      <td>-0.166136</td>\n",
       "      <td>1.000000</td>\n",
       "    </tr>\n",
       "  </tbody>\n",
       "</table>\n",
       "</div>"
      ],
      "text/plain": [
       "              MDVP:Fhi(Hz)    status\n",
       "MDVP:Fhi(Hz)      1.000000 -0.166136\n",
       "status           -0.166136  1.000000"
      ]
     },
     "execution_count": 131,
     "metadata": {},
     "output_type": "execute_result"
    }
   ],
   "source": [
    "# Also checking with help of the correlation\n",
    "data[['MDVP:Fhi(Hz)','status']].corr()"
   ]
  },
  {
   "cell_type": "markdown",
   "metadata": {},
   "source": [
    "#### Inferences:\n",
    "    \n",
    "1. From the statistical test, the p-value is less than 0.05. Hence we reject the null hypothesis.\n",
    "2. And also, we could see there is less correlation between MDVP:Fhi(Hz) and status.\n",
    "\n",
    "From 1 and 2, we can conclude that the MDVP:Fhi(Hz) is not helpful in predicting Status."
   ]
  },
  {
   "cell_type": "markdown",
   "metadata": {},
   "source": [
    "### 2) Find  whether NHR is helpful in predicting Status? "
   ]
  },
  {
   "cell_type": "code",
   "execution_count": 132,
   "metadata": {},
   "outputs": [
    {
     "name": "stdout",
     "output_type": "stream",
     "text": [
      "Shapiro Test Outcome:\n",
      "\ta. Group 1 is not normally distributed\n",
      "\tb. Group 2 is not normally distributed\n",
      "Levene Test Outcome: Two groups variance are not same\n",
      "\n",
      "The length of:\n",
      "\tGroup 1: 48\n",
      "\tGroup 2: 147\n"
     ]
    }
   ],
   "source": [
    "#Creating two groups based on status\n",
    "group1 = data.NHR[data.status == 0]\n",
    "group2 = data.NHR[data.status == 1]\n",
    "\n",
    "#Checking for the normal distribution and variance:\n",
    "check_assumption(group1, group2)\n",
    "print(\"\\nThe length of:\")\n",
    "print(\"\\tGroup 1:\", len(group1))\n",
    "print(\"\\tGroup 2:\", len(group2))"
   ]
  },
  {
   "cell_type": "markdown",
   "metadata": {},
   "source": [
    "#### Inferences:\n",
    "    \n",
    "1. The data is divided into two features - Group 1 (i.e., Healthy) and Group 2 (i.e., Parkinson) with NHR entry and their length is 48 and 147.\n",
    "2. Since these groups are not normally distributed. the non-parametric test (i.e., Mannwhitneyu) can be used."
   ]
  },
  {
   "cell_type": "code",
   "execution_count": 134,
   "metadata": {},
   "outputs": [
    {
     "name": "stdout",
     "output_type": "stream",
     "text": [
      "The calculated values are:\n",
      "\ta. stat value is 1600.5\n",
      "\tb. p-value value is 1.3762424892666553e-08\n",
      "\n",
      "Conclusion: Reject the null hypothesis\n",
      "NHR is not helpful in predicting Status\n"
     ]
    }
   ],
   "source": [
    "#Formulating the hypothesis:\n",
    "H0 = \"NHR is helpful in predicting Status\"\n",
    "H1 = \"NHR is not helpful in predicting Status\"\n",
    "\n",
    "#Using mannwhitneyu test for calculating stat value and p-value:\n",
    "stat,pvalue = stats.mannwhitneyu(group1,group2)\n",
    "print(\"The calculated values are:\")\n",
    "print(\"\\ta. stat value is\", stat)\n",
    "print(\"\\tb. p-value value is\", pvalue)\n",
    "\n",
    "#Conclusion based on pvalue\n",
    "if pvalue > 0.05:\n",
    "    print(\"\\nConclusion: Fail to reject the null hypothesis\")\n",
    "    print(H0)\n",
    "else:\n",
    "    print(\"\\nConclusion: Reject the null hypothesis\")\n",
    "    print(H1) "
   ]
  },
  {
   "cell_type": "code",
   "execution_count": 135,
   "metadata": {},
   "outputs": [
    {
     "data": {
      "text/html": [
       "<div>\n",
       "<style scoped>\n",
       "    .dataframe tbody tr th:only-of-type {\n",
       "        vertical-align: middle;\n",
       "    }\n",
       "\n",
       "    .dataframe tbody tr th {\n",
       "        vertical-align: top;\n",
       "    }\n",
       "\n",
       "    .dataframe thead th {\n",
       "        text-align: right;\n",
       "    }\n",
       "</style>\n",
       "<table border=\"1\" class=\"dataframe\">\n",
       "  <thead>\n",
       "    <tr style=\"text-align: right;\">\n",
       "      <th></th>\n",
       "      <th>NHR</th>\n",
       "      <th>status</th>\n",
       "    </tr>\n",
       "  </thead>\n",
       "  <tbody>\n",
       "    <tr>\n",
       "      <th>NHR</th>\n",
       "      <td>1.000000</td>\n",
       "      <td>0.189429</td>\n",
       "    </tr>\n",
       "    <tr>\n",
       "      <th>status</th>\n",
       "      <td>0.189429</td>\n",
       "      <td>1.000000</td>\n",
       "    </tr>\n",
       "  </tbody>\n",
       "</table>\n",
       "</div>"
      ],
      "text/plain": [
       "             NHR    status\n",
       "NHR     1.000000  0.189429\n",
       "status  0.189429  1.000000"
      ]
     },
     "execution_count": 135,
     "metadata": {},
     "output_type": "execute_result"
    }
   ],
   "source": [
    "#Also checking with help of the correlation\n",
    "data[['NHR','status']].corr()"
   ]
  },
  {
   "cell_type": "markdown",
   "metadata": {},
   "source": [
    "#### Inferences:\n",
    "1. From the statistical test, the p-value is less than 0.05. Hence we reject the null hypothesis.\n",
    "2. We could also see there is less correlation between NHR and status.\n",
    "\n",
    "From 1 and 2, we can conclude that the <b>NHR is not helpful in predicting Status</b>."
   ]
  },
  {
   "cell_type": "markdown",
   "metadata": {},
   "source": [
    "### 3) Find  whether spread2 is helpful in predicting Status? "
   ]
  },
  {
   "cell_type": "code",
   "execution_count": 136,
   "metadata": {},
   "outputs": [
    {
     "name": "stdout",
     "output_type": "stream",
     "text": [
      "Shapiro Test Outcome:\n",
      "\ta. Group 1 is normally distributed\n",
      "\tb. Group 2 is normally distributed\n",
      "Levene Test Outcome: Two groups variance are same\n",
      "\n",
      "The length of:\n",
      "\tGroup 1: 48\n",
      "\tGroup 2: 147\n"
     ]
    }
   ],
   "source": [
    "#Creating two groups based on status where group 1 is healthy and group 2 is parkinson\n",
    "group1 = data.spread2[data.status == 0]\n",
    "group2 = data.spread2[data.status == 1]\n",
    "\n",
    "#Checking for the normal distribution and variance\n",
    "check_assumption(group1, group2)\n",
    "print(\"\\nThe length of:\")\n",
    "print(\"\\tGroup 1:\", len(group1))\n",
    "print(\"\\tGroup 2:\", len(group2))"
   ]
  },
  {
   "cell_type": "markdown",
   "metadata": {},
   "source": [
    "#### Inferences:\n",
    "    \n",
    "1. The data is divided into two features - group1(Healthy) and group2(Parkinson) with spread2 entry and their length is 48 and 147\n",
    "2. These two features follow the normal distribution and the two group variance are same. Hence, the parametric test can be used.\n",
    "3. There are two features and are not dependent , hence it is a two sample Independent test\n",
    "4. Since the sample size is greater than 30, we are following normal distribution and z statistical test"
   ]
  },
  {
   "cell_type": "code",
   "execution_count": 138,
   "metadata": {},
   "outputs": [
    {
     "name": "stdout",
     "output_type": "stream",
     "text": [
      "The calculated values are:\n",
      "\ta. stat value is 1600.5\n",
      "\tb. p-value value is 1.2907890253854916e-12\n",
      "\n",
      "Conclusion: Reject the null hypothesis\n",
      "spread2 is not helpful in predicting Status\n"
     ]
    }
   ],
   "source": [
    "#Formulating the hypothesis:\n",
    "H0 = \"spread2 is helpful in predicting Status\"\n",
    "H1 = \"spread2 is not helpful in predicting Status\"\n",
    "\n",
    "#Using inbuilt function to calculate zstat and p-value:\n",
    "zstat,pvalue = ztest(group1, group2, value = 0)\n",
    "print(\"The calculated values are:\")\n",
    "print(\"\\ta. stat value is\", stat)\n",
    "print(\"\\tb. p-value value is\", pvalue)\n",
    "\n",
    "#Conclusion based on p-value:\n",
    "if pvalue > 0.05:\n",
    "    print(\"\\nConclusion: Fail to reject the null hypothesis\")\n",
    "    print(H0)\n",
    "else:\n",
    "    print(\"\\nConclusion: Reject the null hypothesis\")\n",
    "    print(H1)"
   ]
  },
  {
   "cell_type": "code",
   "execution_count": 139,
   "metadata": {},
   "outputs": [
    {
     "data": {
      "text/html": [
       "<div>\n",
       "<style scoped>\n",
       "    .dataframe tbody tr th:only-of-type {\n",
       "        vertical-align: middle;\n",
       "    }\n",
       "\n",
       "    .dataframe tbody tr th {\n",
       "        vertical-align: top;\n",
       "    }\n",
       "\n",
       "    .dataframe thead th {\n",
       "        text-align: right;\n",
       "    }\n",
       "</style>\n",
       "<table border=\"1\" class=\"dataframe\">\n",
       "  <thead>\n",
       "    <tr style=\"text-align: right;\">\n",
       "      <th></th>\n",
       "      <th>spread2</th>\n",
       "      <th>status</th>\n",
       "    </tr>\n",
       "  </thead>\n",
       "  <tbody>\n",
       "    <tr>\n",
       "      <th>spread2</th>\n",
       "      <td>1.000000</td>\n",
       "      <td>0.454842</td>\n",
       "    </tr>\n",
       "    <tr>\n",
       "      <th>status</th>\n",
       "      <td>0.454842</td>\n",
       "      <td>1.000000</td>\n",
       "    </tr>\n",
       "  </tbody>\n",
       "</table>\n",
       "</div>"
      ],
      "text/plain": [
       "          spread2    status\n",
       "spread2  1.000000  0.454842\n",
       "status   0.454842  1.000000"
      ]
     },
     "execution_count": 139,
     "metadata": {},
     "output_type": "execute_result"
    }
   ],
   "source": [
    "#Also checking with help of the correlation\n",
    "data[['spread2','status']].corr()"
   ]
  },
  {
   "cell_type": "markdown",
   "metadata": {},
   "source": [
    "#### Inferences:\n",
    "    \n",
    "1. From the statistical test, the z stat value is greater than the critical value and pvalue is less than 0.05. Hence we reject the null hypothesis.\n",
    "2. And also, we could see there is less correlation between spread2 and status.\n",
    "\n",
    "From 1 and 2, we can conclude that the <b>spread2 is not helpful in predicting Status</b>."
   ]
  }
 ],
 "metadata": {
  "kernelspec": {
   "display_name": "Python 3 (ipykernel)",
   "language": "python",
   "name": "python3"
  },
  "language_info": {
   "codemirror_mode": {
    "name": "ipython",
    "version": 3
   },
   "file_extension": ".py",
   "mimetype": "text/x-python",
   "name": "python",
   "nbconvert_exporter": "python",
   "pygments_lexer": "ipython3",
   "version": "3.9.12"
  }
 },
 "nbformat": 4,
 "nbformat_minor": 2
}
