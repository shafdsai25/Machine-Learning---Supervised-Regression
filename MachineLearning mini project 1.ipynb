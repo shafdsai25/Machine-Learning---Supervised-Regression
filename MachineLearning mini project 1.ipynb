{
 "cells": [
  {
   "cell_type": "markdown",
   "metadata": {
    "id": "XMvqQFs1ERE-"
   },
   "source": [
    "<table align=\"center\" width=100%>\n",
    "    <tr>\n",
    "       <td>\n",
    "            <div align=\"center\">\n",
    "                <font color=\"#21618C\" size=8px>\n",
    "                    <b> Mini Project I - Machine Learning Supervised Regression\n",
    "                    </b>\n",
    "                </font>\n",
    "            </div>\n",
    "        </td>\n",
    "        <td width=\"25%\">\n",
    "            <img src=\"NEW_GL_Logo.png\">\n",
    "        </td>\n",
    "    </tr>\n",
    "</table>"
   ]
  },
  {
   "cell_type": "markdown",
   "metadata": {},
   "source": [
    "\n",
    "\n",
    "Shafeenafarheen Jageerhussain"
   ]
  },
  {
   "cell_type": "code",
   "execution_count": 1,
   "metadata": {
    "id": "qnQgOXQYERFJ"
   },
   "outputs": [],
   "source": [
    "#import the libraries\n",
    "import pandas as pd\n",
    "import numpy as np\n",
    "import matplotlib.pyplot as plt\n",
    "import seaborn as sns\n",
    "from scipy import stats\n",
    "import statistics\n",
    "import warnings\n",
    "warnings.filterwarnings(\"ignore\")"
   ]
  },
  {
   "cell_type": "markdown",
   "metadata": {
    "id": "AdGDjSCUblrp"
   },
   "source": [
    "### A. Read the Dataset \"turnout.csv\" "
   ]
  },
  {
   "cell_type": "code",
   "execution_count": 2,
   "metadata": {
    "id": "_I_S2aosERFL"
   },
   "outputs": [
    {
     "data": {
      "text/html": [
       "<div>\n",
       "<style scoped>\n",
       "    .dataframe tbody tr th:only-of-type {\n",
       "        vertical-align: middle;\n",
       "    }\n",
       "\n",
       "    .dataframe tbody tr th {\n",
       "        vertical-align: top;\n",
       "    }\n",
       "\n",
       "    .dataframe thead th {\n",
       "        text-align: right;\n",
       "    }\n",
       "</style>\n",
       "<table border=\"1\" class=\"dataframe\">\n",
       "  <thead>\n",
       "    <tr style=\"text-align: right;\">\n",
       "      <th></th>\n",
       "      <th>Employee ID</th>\n",
       "      <th>event</th>\n",
       "      <th>gender</th>\n",
       "      <th>age</th>\n",
       "      <th>industry</th>\n",
       "      <th>profession</th>\n",
       "      <th>traffic</th>\n",
       "      <th>coach</th>\n",
       "      <th>head_gender</th>\n",
       "      <th>greywage</th>\n",
       "      <th>way</th>\n",
       "      <th>extraversion</th>\n",
       "      <th>independ</th>\n",
       "      <th>selfcontrol</th>\n",
       "      <th>anxiety</th>\n",
       "      <th>novator</th>\n",
       "    </tr>\n",
       "  </thead>\n",
       "  <tbody>\n",
       "    <tr>\n",
       "      <th>0</th>\n",
       "      <td>1011</td>\n",
       "      <td>1</td>\n",
       "      <td>m</td>\n",
       "      <td>35.0</td>\n",
       "      <td>Banks</td>\n",
       "      <td>HR</td>\n",
       "      <td>rabrecNErab</td>\n",
       "      <td>no</td>\n",
       "      <td>f</td>\n",
       "      <td>white</td>\n",
       "      <td>bus</td>\n",
       "      <td>6.2</td>\n",
       "      <td>4.1</td>\n",
       "      <td>5.7</td>\n",
       "      <td>7.1</td>\n",
       "      <td>8.3</td>\n",
       "    </tr>\n",
       "    <tr>\n",
       "      <th>1</th>\n",
       "      <td>1012</td>\n",
       "      <td>1</td>\n",
       "      <td>m</td>\n",
       "      <td>33.0</td>\n",
       "      <td>Banks</td>\n",
       "      <td>HR</td>\n",
       "      <td>empjs</td>\n",
       "      <td>no</td>\n",
       "      <td>m</td>\n",
       "      <td>white</td>\n",
       "      <td>bus</td>\n",
       "      <td>6.2</td>\n",
       "      <td>4.1</td>\n",
       "      <td>5.7</td>\n",
       "      <td>7.1</td>\n",
       "      <td>8.3</td>\n",
       "    </tr>\n",
       "    <tr>\n",
       "      <th>2</th>\n",
       "      <td>1013</td>\n",
       "      <td>1</td>\n",
       "      <td>f</td>\n",
       "      <td>35.0</td>\n",
       "      <td>PowerGeneration</td>\n",
       "      <td>HR</td>\n",
       "      <td>rabrecNErab</td>\n",
       "      <td>no</td>\n",
       "      <td>m</td>\n",
       "      <td>white</td>\n",
       "      <td>bus</td>\n",
       "      <td>6.2</td>\n",
       "      <td>6.2</td>\n",
       "      <td>2.6</td>\n",
       "      <td>4.8</td>\n",
       "      <td>8.3</td>\n",
       "    </tr>\n",
       "    <tr>\n",
       "      <th>3</th>\n",
       "      <td>1014</td>\n",
       "      <td>1</td>\n",
       "      <td>f</td>\n",
       "      <td>35.0</td>\n",
       "      <td>PowerGeneration</td>\n",
       "      <td>HR</td>\n",
       "      <td>rabrecNErab</td>\n",
       "      <td>no</td>\n",
       "      <td>m</td>\n",
       "      <td>white</td>\n",
       "      <td>bus</td>\n",
       "      <td>5.4</td>\n",
       "      <td>7.6</td>\n",
       "      <td>4.9</td>\n",
       "      <td>2.5</td>\n",
       "      <td>6.7</td>\n",
       "    </tr>\n",
       "    <tr>\n",
       "      <th>4</th>\n",
       "      <td>1015</td>\n",
       "      <td>1</td>\n",
       "      <td>m</td>\n",
       "      <td>32.0</td>\n",
       "      <td>Retail</td>\n",
       "      <td>Commercial</td>\n",
       "      <td>youjs</td>\n",
       "      <td>yes</td>\n",
       "      <td>f</td>\n",
       "      <td>white</td>\n",
       "      <td>bus</td>\n",
       "      <td>3.0</td>\n",
       "      <td>4.1</td>\n",
       "      <td>8.0</td>\n",
       "      <td>7.1</td>\n",
       "      <td>3.7</td>\n",
       "    </tr>\n",
       "  </tbody>\n",
       "</table>\n",
       "</div>"
      ],
      "text/plain": [
       "   Employee ID  event gender   age         industry  profession      traffic  \\\n",
       "0         1011      1      m  35.0            Banks          HR  rabrecNErab   \n",
       "1         1012      1      m  33.0            Banks          HR        empjs   \n",
       "2         1013      1      f  35.0  PowerGeneration          HR  rabrecNErab   \n",
       "3         1014      1      f  35.0  PowerGeneration          HR  rabrecNErab   \n",
       "4         1015      1      m  32.0           Retail  Commercial        youjs   \n",
       "\n",
       "  coach head_gender greywage  way  extraversion  independ  selfcontrol  \\\n",
       "0    no           f    white  bus           6.2       4.1          5.7   \n",
       "1    no           m    white  bus           6.2       4.1          5.7   \n",
       "2    no           m    white  bus           6.2       6.2          2.6   \n",
       "3    no           m    white  bus           5.4       7.6          4.9   \n",
       "4   yes           f    white  bus           3.0       4.1          8.0   \n",
       "\n",
       "   anxiety  novator  \n",
       "0      7.1      8.3  \n",
       "1      7.1      8.3  \n",
       "2      4.8      8.3  \n",
       "3      2.5      6.7  \n",
       "4      7.1      3.7  "
      ]
     },
     "execution_count": 2,
     "metadata": {},
     "output_type": "execute_result"
    }
   ],
   "source": [
    "#Reading the dataset from the turnout.csv file and displaying the first 5 rows\n",
    "#As the .csv file isn't UTF-8 encoded, we need to pass the encoding type as \"ANSI\" to extract the data\n",
    "employee_turnout = pd.read_csv(\"Mini-Project I - Group 12 - Dataset - turnout.csv\",encoding=\"ANSI\")\n",
    "employee_turnout.head()"
   ]
  },
  {
   "cell_type": "markdown",
   "metadata": {
    "id": "RyfxYh8Lbwdd"
   },
   "source": [
    "### B.Identify non-numerical inputs and convert into numerical whatever needed \n",
    "(*Hint: Use replace function if needed)"
   ]
  },
  {
   "cell_type": "code",
   "execution_count": 3,
   "metadata": {
    "id": "dqLmez8Qbzrp"
   },
   "outputs": [
    {
     "name": "stdout",
     "output_type": "stream",
     "text": [
      "Datatypes of features before numerical conversion:\n",
      "\n",
      " Employee ID       int64\n",
      "event             int64\n",
      "gender           object\n",
      "age             float64\n",
      "industry         object\n",
      "profession       object\n",
      "traffic          object\n",
      "coach            object\n",
      "head_gender      object\n",
      "greywage         object\n",
      "way              object\n",
      "extraversion    float64\n",
      "independ        float64\n",
      "selfcontrol     float64\n",
      "anxiety         float64\n",
      "novator         float64\n",
      "dtype: object\n"
     ]
    }
   ],
   "source": [
    "#Displying the datatypes of the features from the loaded dataset before conversion\n",
    "print(\"Datatypes of features before numerical conversion:\\n\\n\",employee_turnout.dtypes)"
   ]
  },
  {
   "cell_type": "code",
   "execution_count": 4,
   "metadata": {},
   "outputs": [
    {
     "data": {
      "text/html": [
       "<div>\n",
       "<style scoped>\n",
       "    .dataframe tbody tr th:only-of-type {\n",
       "        vertical-align: middle;\n",
       "    }\n",
       "\n",
       "    .dataframe tbody tr th {\n",
       "        vertical-align: top;\n",
       "    }\n",
       "\n",
       "    .dataframe thead th {\n",
       "        text-align: right;\n",
       "    }\n",
       "</style>\n",
       "<table border=\"1\" class=\"dataframe\">\n",
       "  <thead>\n",
       "    <tr style=\"text-align: right;\">\n",
       "      <th></th>\n",
       "      <th>Employee ID</th>\n",
       "      <th>event</th>\n",
       "      <th>gender</th>\n",
       "      <th>age</th>\n",
       "      <th>industry</th>\n",
       "      <th>profession</th>\n",
       "      <th>traffic</th>\n",
       "      <th>coach</th>\n",
       "      <th>head_gender</th>\n",
       "      <th>greywage</th>\n",
       "      <th>way</th>\n",
       "      <th>extraversion</th>\n",
       "      <th>independ</th>\n",
       "      <th>selfcontrol</th>\n",
       "      <th>anxiety</th>\n",
       "      <th>novator</th>\n",
       "    </tr>\n",
       "  </thead>\n",
       "  <tbody>\n",
       "    <tr>\n",
       "      <th>0</th>\n",
       "      <td>1011</td>\n",
       "      <td>1</td>\n",
       "      <td>m</td>\n",
       "      <td>35.0</td>\n",
       "      <td>Banks</td>\n",
       "      <td>HR</td>\n",
       "      <td>rabrecNErab</td>\n",
       "      <td>0</td>\n",
       "      <td>1</td>\n",
       "      <td>white</td>\n",
       "      <td>bus</td>\n",
       "      <td>6.2</td>\n",
       "      <td>4.1</td>\n",
       "      <td>5.7</td>\n",
       "      <td>7.1</td>\n",
       "      <td>8.3</td>\n",
       "    </tr>\n",
       "    <tr>\n",
       "      <th>1</th>\n",
       "      <td>1012</td>\n",
       "      <td>1</td>\n",
       "      <td>m</td>\n",
       "      <td>33.0</td>\n",
       "      <td>Banks</td>\n",
       "      <td>HR</td>\n",
       "      <td>empjs</td>\n",
       "      <td>0</td>\n",
       "      <td>0</td>\n",
       "      <td>white</td>\n",
       "      <td>bus</td>\n",
       "      <td>6.2</td>\n",
       "      <td>4.1</td>\n",
       "      <td>5.7</td>\n",
       "      <td>7.1</td>\n",
       "      <td>8.3</td>\n",
       "    </tr>\n",
       "    <tr>\n",
       "      <th>2</th>\n",
       "      <td>1013</td>\n",
       "      <td>1</td>\n",
       "      <td>f</td>\n",
       "      <td>35.0</td>\n",
       "      <td>PowerGeneration</td>\n",
       "      <td>HR</td>\n",
       "      <td>rabrecNErab</td>\n",
       "      <td>0</td>\n",
       "      <td>0</td>\n",
       "      <td>white</td>\n",
       "      <td>bus</td>\n",
       "      <td>6.2</td>\n",
       "      <td>6.2</td>\n",
       "      <td>2.6</td>\n",
       "      <td>4.8</td>\n",
       "      <td>8.3</td>\n",
       "    </tr>\n",
       "    <tr>\n",
       "      <th>3</th>\n",
       "      <td>1014</td>\n",
       "      <td>1</td>\n",
       "      <td>f</td>\n",
       "      <td>35.0</td>\n",
       "      <td>PowerGeneration</td>\n",
       "      <td>HR</td>\n",
       "      <td>rabrecNErab</td>\n",
       "      <td>0</td>\n",
       "      <td>0</td>\n",
       "      <td>white</td>\n",
       "      <td>bus</td>\n",
       "      <td>5.4</td>\n",
       "      <td>7.6</td>\n",
       "      <td>4.9</td>\n",
       "      <td>2.5</td>\n",
       "      <td>6.7</td>\n",
       "    </tr>\n",
       "    <tr>\n",
       "      <th>4</th>\n",
       "      <td>1015</td>\n",
       "      <td>1</td>\n",
       "      <td>m</td>\n",
       "      <td>32.0</td>\n",
       "      <td>Retail</td>\n",
       "      <td>Commercial</td>\n",
       "      <td>youjs</td>\n",
       "      <td>1</td>\n",
       "      <td>1</td>\n",
       "      <td>white</td>\n",
       "      <td>bus</td>\n",
       "      <td>3.0</td>\n",
       "      <td>4.1</td>\n",
       "      <td>8.0</td>\n",
       "      <td>7.1</td>\n",
       "      <td>3.7</td>\n",
       "    </tr>\n",
       "  </tbody>\n",
       "</table>\n",
       "</div>"
      ],
      "text/plain": [
       "   Employee ID  event gender   age         industry  profession      traffic  \\\n",
       "0         1011      1      m  35.0            Banks          HR  rabrecNErab   \n",
       "1         1012      1      m  33.0            Banks          HR        empjs   \n",
       "2         1013      1      f  35.0  PowerGeneration          HR  rabrecNErab   \n",
       "3         1014      1      f  35.0  PowerGeneration          HR  rabrecNErab   \n",
       "4         1015      1      m  32.0           Retail  Commercial        youjs   \n",
       "\n",
       "   coach  head_gender greywage  way  extraversion  independ  selfcontrol  \\\n",
       "0      0            1    white  bus           6.2       4.1          5.7   \n",
       "1      0            0    white  bus           6.2       4.1          5.7   \n",
       "2      0            0    white  bus           6.2       6.2          2.6   \n",
       "3      0            0    white  bus           5.4       7.6          4.9   \n",
       "4      1            1    white  bus           3.0       4.1          8.0   \n",
       "\n",
       "   anxiety  novator  \n",
       "0      7.1      8.3  \n",
       "1      7.1      8.3  \n",
       "2      4.8      8.3  \n",
       "3      2.5      6.7  \n",
       "4      7.1      3.7  "
      ]
     },
     "execution_count": 4,
     "metadata": {},
     "output_type": "execute_result"
    }
   ],
   "source": [
    "#Converting the \"head_gender\" and \"coach\" field object to numerical datatype\n",
    "#This operation was performed as it was a requirement, but in reality these 2 conversions may not make much sense\n",
    "\n",
    "employee_turnout_copy = employee_turnout.copy()\n",
    "employee_turnout_copy['head_gender']=np.where(employee_turnout['head_gender']=='m',0,1)\n",
    "employee_turnout_copy['coach']=np.where(employee_turnout['coach']=='yes',1,0)\n",
    "\n",
    "#Employee Id can be convered as a categorical, as the there is no real requirement to retain it in numerical\n",
    "#In addition, there is no point in determining the mean, median etc.\n",
    "employee_turnout[\"Employee ID\"] = employee_turnout[\"Employee ID\"].astype('str')\n",
    "\n",
    "employee_turnout_copy.head()"
   ]
  },
  {
   "cell_type": "code",
   "execution_count": 5,
   "metadata": {},
   "outputs": [
    {
     "name": "stdout",
     "output_type": "stream",
     "text": [
      "Datatypes of features after numerical conversion:\n",
      "\n",
      " Employee ID       int64\n",
      "event             int64\n",
      "gender           object\n",
      "age             float64\n",
      "industry         object\n",
      "profession       object\n",
      "traffic          object\n",
      "coach             int32\n",
      "head_gender       int32\n",
      "greywage         object\n",
      "way              object\n",
      "extraversion    float64\n",
      "independ        float64\n",
      "selfcontrol     float64\n",
      "anxiety         float64\n",
      "novator         float64\n",
      "dtype: object\n"
     ]
    }
   ],
   "source": [
    "#Displying the datatypes of the features from the loaded dataset before conversion\n",
    "print(\"Datatypes of features after numerical conversion:\\n\\n\",employee_turnout_copy.dtypes)"
   ]
  },
  {
   "cell_type": "markdown",
   "metadata": {
    "id": "oQbYqF4Bb1Gs"
   },
   "source": [
    "### C. Describe the statistical measures using single function "
   ]
  },
  {
   "cell_type": "code",
   "execution_count": 6,
   "metadata": {
    "id": "oB2gD_tXb7TD"
   },
   "outputs": [
    {
     "data": {
      "text/html": [
       "<div>\n",
       "<style scoped>\n",
       "    .dataframe tbody tr th:only-of-type {\n",
       "        vertical-align: middle;\n",
       "    }\n",
       "\n",
       "    .dataframe tbody tr th {\n",
       "        vertical-align: top;\n",
       "    }\n",
       "\n",
       "    .dataframe thead th {\n",
       "        text-align: right;\n",
       "    }\n",
       "</style>\n",
       "<table border=\"1\" class=\"dataframe\">\n",
       "  <thead>\n",
       "    <tr style=\"text-align: right;\">\n",
       "      <th></th>\n",
       "      <th>event</th>\n",
       "      <th>age</th>\n",
       "      <th>extraversion</th>\n",
       "      <th>independ</th>\n",
       "      <th>selfcontrol</th>\n",
       "      <th>anxiety</th>\n",
       "      <th>novator</th>\n",
       "    </tr>\n",
       "  </thead>\n",
       "  <tbody>\n",
       "    <tr>\n",
       "      <th>count</th>\n",
       "      <td>1129.000000</td>\n",
       "      <td>1129.000000</td>\n",
       "      <td>1128.000000</td>\n",
       "      <td>1127.000000</td>\n",
       "      <td>1128.000000</td>\n",
       "      <td>1128.000000</td>\n",
       "      <td>1128.000000</td>\n",
       "    </tr>\n",
       "    <tr>\n",
       "      <th>mean</th>\n",
       "      <td>0.505757</td>\n",
       "      <td>31.050136</td>\n",
       "      <td>5.593262</td>\n",
       "      <td>5.480479</td>\n",
       "      <td>5.593794</td>\n",
       "      <td>5.667110</td>\n",
       "      <td>5.881560</td>\n",
       "    </tr>\n",
       "    <tr>\n",
       "      <th>std</th>\n",
       "      <td>0.500188</td>\n",
       "      <td>7.419808</td>\n",
       "      <td>1.852222</td>\n",
       "      <td>1.703578</td>\n",
       "      <td>1.977562</td>\n",
       "      <td>1.709213</td>\n",
       "      <td>1.903753</td>\n",
       "    </tr>\n",
       "    <tr>\n",
       "      <th>min</th>\n",
       "      <td>0.000000</td>\n",
       "      <td>2.000000</td>\n",
       "      <td>1.000000</td>\n",
       "      <td>1.000000</td>\n",
       "      <td>1.000000</td>\n",
       "      <td>1.700000</td>\n",
       "      <td>1.000000</td>\n",
       "    </tr>\n",
       "    <tr>\n",
       "      <th>25%</th>\n",
       "      <td>0.000000</td>\n",
       "      <td>25.000000</td>\n",
       "      <td>4.600000</td>\n",
       "      <td>4.100000</td>\n",
       "      <td>4.100000</td>\n",
       "      <td>4.800000</td>\n",
       "      <td>4.400000</td>\n",
       "    </tr>\n",
       "    <tr>\n",
       "      <th>50%</th>\n",
       "      <td>1.000000</td>\n",
       "      <td>30.000000</td>\n",
       "      <td>5.400000</td>\n",
       "      <td>5.500000</td>\n",
       "      <td>5.700000</td>\n",
       "      <td>5.600000</td>\n",
       "      <td>6.000000</td>\n",
       "    </tr>\n",
       "    <tr>\n",
       "      <th>75%</th>\n",
       "      <td>1.000000</td>\n",
       "      <td>36.000000</td>\n",
       "      <td>7.000000</td>\n",
       "      <td>6.900000</td>\n",
       "      <td>7.200000</td>\n",
       "      <td>7.100000</td>\n",
       "      <td>7.500000</td>\n",
       "    </tr>\n",
       "    <tr>\n",
       "      <th>max</th>\n",
       "      <td>1.000000</td>\n",
       "      <td>98.000000</td>\n",
       "      <td>10.000000</td>\n",
       "      <td>10.000000</td>\n",
       "      <td>10.000000</td>\n",
       "      <td>10.000000</td>\n",
       "      <td>10.000000</td>\n",
       "    </tr>\n",
       "  </tbody>\n",
       "</table>\n",
       "</div>"
      ],
      "text/plain": [
       "             event          age  extraversion     independ  selfcontrol  \\\n",
       "count  1129.000000  1129.000000   1128.000000  1127.000000  1128.000000   \n",
       "mean      0.505757    31.050136      5.593262     5.480479     5.593794   \n",
       "std       0.500188     7.419808      1.852222     1.703578     1.977562   \n",
       "min       0.000000     2.000000      1.000000     1.000000     1.000000   \n",
       "25%       0.000000    25.000000      4.600000     4.100000     4.100000   \n",
       "50%       1.000000    30.000000      5.400000     5.500000     5.700000   \n",
       "75%       1.000000    36.000000      7.000000     6.900000     7.200000   \n",
       "max       1.000000    98.000000     10.000000    10.000000    10.000000   \n",
       "\n",
       "           anxiety      novator  \n",
       "count  1128.000000  1128.000000  \n",
       "mean      5.667110     5.881560  \n",
       "std       1.709213     1.903753  \n",
       "min       1.700000     1.000000  \n",
       "25%       4.800000     4.400000  \n",
       "50%       5.600000     6.000000  \n",
       "75%       7.100000     7.500000  \n",
       "max      10.000000    10.000000  "
      ]
     },
     "execution_count": 6,
     "metadata": {},
     "output_type": "execute_result"
    }
   ],
   "source": [
    "#Describing the various statistical measures for numerical dataset\n",
    "employee_turnout.describe()"
   ]
  },
  {
   "cell_type": "markdown",
   "metadata": {
    "id": "cMWhXtQgb-hG"
   },
   "source": [
    "### D.Find mean, median and mode for atleast one possible column for each "
   ]
  },
  {
   "cell_type": "code",
   "execution_count": 7,
   "metadata": {
    "id": "9QPegyyocAne"
   },
   "outputs": [
    {
     "name": "stdout",
     "output_type": "stream",
     "text": [
      "a. Average age of employee is 31.050135512072632\n",
      "\n",
      "b. Median value of anxiety is 5.6\n",
      "\n",
      "c. Industry which has highest turnout (i.e., 289) is Retail\n"
     ]
    }
   ],
   "source": [
    "#Calculating the mean and median for the numerical features - i.e., age and anxiety\n",
    "print(\"a. Average age of employee is\",employee_turnout[\"age\"].mean())\n",
    "print(\"\\nb. Median value of anxiety is\",employee_turnout[\"anxiety\"].median())\n",
    "\n",
    "#Calculating the mode for categoric feature - i.e., industry\n",
    "#It follows unimodel, as we have only one industry (i.e., Retail) with highest frequency\n",
    "print(\"\\nc. Industry which has highest turnout (i.e., {}) is {}\".\n",
    "      format(employee_turnout[\"industry\"].value_counts()[\"Retail\"],\n",
    "             employee_turnout[\"industry\"].mode()[0]))"
   ]
  },
  {
   "cell_type": "markdown",
   "metadata": {
    "id": "GdgFRvcvcBQA"
   },
   "source": [
    "### E.Check the outliers and remove it from the dataset. "
   ]
  },
  {
   "cell_type": "code",
   "execution_count": 9,
   "metadata": {
    "id": "50BJ6rrecKhf"
   },
   "outputs": [
    {
     "data": {
      "text/plain": [
       "<Figure size 7200x3600 with 0 Axes>"
      ]
     },
     "metadata": {},
     "output_type": "display_data"
    },
    {
     "data": {
      "image/png": "[encoded data removed]",
      "text/plain": [
       "<Figure size 1440x1080 with 25 Axes>"
      ]
     },
     "metadata": {
      "needs_background": "light"
     },
     "output_type": "display_data"
    },
    {
     "name": "stdout",
     "output_type": "stream",
     "text": [
      "The rows and columns:\n",
      "\ta. before applying the outlier treatment (1119, 16)\n",
      "\tb. after the outlier treatment (1118, 16)\n"
     ]
    },
    {
     "data": {
      "image/png": "[encoded data removed]",
      "text/plain": [
       "<Figure size 432x288 with 1 Axes>"
      ]
     },
     "metadata": {
      "needs_background": "light"
     },
     "output_type": "display_data"
    }
   ],
   "source": [
    "#Visualize the box plot for outliers\n",
    "\n",
    "#Set the figure size\n",
    "plt.figure(figsize = [100,50])\n",
    "\n",
    "#Create a box plot for all numeric variables\n",
    "#kind = 'box' : Specifies a box plot\n",
    "#subplots = True : Specifies the subplots to created a each numerical variables\n",
    "#layout: Specifies the number of rows and columns for the subplot\n",
    "#figsize: to set the figure size of the subplot\n",
    "employee_turnout.plot(kind='box',subplots=True, layout=(5,5), figsize=(20,15))\n",
    "\n",
    "#To give specified padding between the subplots\n",
    "plt.tight_layout()\n",
    "\n",
    "#Display the plot\n",
    "plt.show()\n",
    "\n",
    "#To detect the no. of rows and cols. before applying the outlier treatment\n",
    "print(\"The rows and columns:\\n\\ta. before applying the outlier treatment\", employee_turnout.shape)\n",
    "\n",
    "#Calculating the IQR, Upperbound and Lowerbound, to detect the outliers\n",
    "IQR = employee_turnout[\"age\"].quantile(0.75) - employee_turnout[\"age\"].quantile(0.25)\n",
    "upperBound = employee_turnout['age'].quantile(0.75) + 1.5 * IQR\n",
    "lowerBound = employee_turnout['age'].quantile(0.25) - 1.5 * IQR\n",
    "\n",
    "#Outlier Treatment\n",
    "employee_turnout = employee_turnout[~( (employee_turnout['age'] > upperBound) | (employee_turnout['age'] < lowerBound) )]\n",
    "\n",
    "#To detect the no. of rows and cols. after applying the outlier treatment\n",
    "print(\"\\tb. after the outlier treatment\", employee_turnout.shape)\n",
    "\n",
    "#Visualize the box plot for outliers present in age\n",
    "sns.boxplot(employee_turnout.age)\n",
    "plt.show()"
   ]
  },
  {
   "cell_type": "markdown",
   "metadata": {
    "id": "sSfwt4GVcLIg"
   },
   "source": [
    "### F. A city affected by 3 cyclones in a year on an average. Find the probability if the same city will getting affected by exactly 2 cyclones in the upcoming year "
   ]
  },
  {
   "cell_type": "code",
   "execution_count": 10,
   "metadata": {
    "id": "g03T_bbfcRgA"
   },
   "outputs": [
    {
     "name": "stdout",
     "output_type": "stream",
     "text": [
      "Probability of same city getting affected by exactly 2 cyclones in the upcoming year: 22.4 %\n"
     ]
    }
   ],
   "source": [
    "#Applying Poisson probability function\n",
    "\n",
    "#stats.poisson.pmf(x,lambda)\n",
    "#where x = 2 (i.e.,cyclones/year); lambda = 3 (i.e., avg. cyclone every year)\n",
    "print(\"Probability of same city getting affected by exactly 2 cyclones in the upcoming year:\",\n",
    "      round(stats.poisson.pmf(2,3)*100,2),\"%\")"
   ]
  },
  {
   "cell_type": "markdown",
   "metadata": {
    "id": "aneC8Hi8cSS2"
   },
   "source": [
    "### G.If an athlete attended 6 olympics in his lifetime. Find the probability if he exactly have 2 wins "
   ]
  },
  {
   "cell_type": "code",
   "execution_count": 11,
   "metadata": {},
   "outputs": [
    {
     "name": "stdout",
     "output_type": "stream",
     "text": [
      "The probability of exactly have 2 wins using Binomial Distribution: 23.438 %\n"
     ]
    }
   ],
   "source": [
    "#Applying Binomial probability function\n",
    "\n",
    "x=2   #Propability for exactly 2 wins\n",
    "n=6   #Total Sample Count\n",
    "p=0.5 #Probability of winning the Olympics\n",
    "\n",
    "#stats.binom.pmf(x,n,p)\n",
    "print(\"The probability of exactly have 2 wins using Binomial Distribution:\",round(stats.binom.pmf(x,n,p)*100,3),\"%\")"
   ]
  }
 ],
 "metadata": {
  "celltoolbar": "Raw Cell Format",
  "colab": {
   "name": "DS&DSAI MLSR_IS Project-1 file.ipynb",
   "provenance": []
  },
  "kernelspec": {
   "display_name": "Python 3 (ipykernel)",
   "language": "python",
   "name": "python3"
  },
  "language_info": {
   "codemirror_mode": {
    "name": "ipython",
    "version": 3
   },
   "file_extension": ".py",
   "mimetype": "text/x-python",
   "name": "python",
   "nbconvert_exporter": "python",
   "pygments_lexer": "ipython3",
   "version": "3.9.12"
  }
 },
 "nbformat": 4,
 "nbformat_minor": 1
}
